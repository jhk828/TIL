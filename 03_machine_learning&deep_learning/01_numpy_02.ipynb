{
 "cells": [
  {
   "cell_type": "markdown",
   "metadata": {},
   "source": [
    "# 01_numpy_02"
   ]
  },
  {
   "cell_type": "markdown",
   "metadata": {},
   "source": [
    "# ndrary의 shape 조절 함수에 대해 알아보았다.\n",
    "* `reshape()`: 원하는 형태 (shape)으로 ndarray의 shape을 조절\n",
    "* `rave()`: 1차원 vector (1차원 ndarray)로 shape을 변형\n",
    "    * 둘 다 view만 바꿈\n",
    "* `resize()`: `reshape()`과 상당히 유사\n",
    "\n",
    "## 1. `reshape()` 함수\n",
    "> ndarray는 shape을 가지고 있다. <br>\n",
    " shape 속성의 값을 바꾸어서 ndarray의 형태를 변경하는 것은 그다지 좋지 않다.<br>\n",
    " 대신, reshape() 함수를 사용한다."
   ]
  },
  {
   "cell_type": "code",
   "execution_count": 2,
   "metadata": {
    "pycharm": {
     "name": "#%%\n"
    }
   },
   "outputs": [
    {
     "name": "stdout",
     "output_type": "stream",
     "text": [
      "[ 0  1  2  3  4  5  6  7  8  9 10 11]\n",
      "[[ 0  1  2]\n",
      " [ 3  4  5]\n",
      " [ 6  7  8]\n",
      " [ 9 10 11]]\n",
      "[100   1   2   3   4   5   6   7   8   9  10  11]\n",
      "[[100   1   2]\n",
      " [  3   4   5]\n",
      " [  6   7   8]\n",
      " [  9  10  11]]\n"
     ]
    }
   ],
   "source": [
    "# ndarray는 shape을 가지고 있다.\n",
    "# shape 속성의 값을 바꾸어서 ndarray의 형태를 변경하는 것은 그다지 좋지 않다.\n",
    "# 대신, reshape() 함수를 이용해서 처리를 한다.\n",
    "\n",
    "import numpy as np\n",
    "\n",
    "# 1) View\n",
    "arr = np.arange(0, 12, 1)\n",
    "print(arr)                # [ 0  1  2  3  4  5  6  7  8  9 10 11]\n",
    "\n",
    "arr1 = arr.reshape(4, 3)  # 새로운 ndarray를 만드는게 아니라, View를 생성.\n",
    "print(arr1)               # [[ 0  1  2]\n",
    "                          #  [ 3  4  5]\n",
    "                          #  [ 6  7  8]\n",
    "                          #  [ 9 10 11]]\n",
    "\n",
    "arr[0] = 100\n",
    "# View를 통해 데이터를 공유하기 때문에, View의 데이터값도 변한다!!\n",
    "print(arr)                 # [100   1   2   3   4   5   6   7   8   9  10  11]\n",
    "print(arr1)                # [[100   1   2]\n",
    "                           #  [  3   4   5] \n",
    "                           #  [  6   7   8]\n",
    "                           #  [  9  10  11]]"
   ]
  },
  {
   "cell_type": "code",
   "execution_count": 3,
   "metadata": {
    "pycharm": {
     "name": "#%%\n"
    }
   },
   "outputs": [
    {
     "name": "stdout",
     "output_type": "stream",
     "text": [
      "[ 0  1  2  3  4  5  6  7  8  9 10 11]\n",
      "[[ 0  1  2  3  4  5]\n",
      " [ 6  7  8  9 10 11]]\n",
      "[[ 0  1  2  3]\n",
      " [ 4  5  6  7]\n",
      " [ 8  9 10 11]]\n",
      "[[[ 0  1  2]\n",
      "  [ 3  4  5]]\n",
      "\n",
      " [[ 6  7  8]\n",
      "  [ 9 10 11]]]\n"
     ]
    }
   ],
   "source": [
    "# 2) -1로 인자 자동 설정\n",
    "arr = np.arange(0, 12, 1)\n",
    "print(arr)                \n",
    "\n",
    "arr1 = arr.reshape(2, -1)      # 앞의 값만 2로 결정하면 뒤의 값도 결정된다. \n",
    "                               # -1은, 음수값을 넣는게 아니라 자동으로 결정하라는 뜻\n",
    "print(arr1)                    # [[ 0  1  2  3  4  5]\n",
    "                               #  [ 6  7  8  9 10 11]]\n",
    "    \n",
    "arr1 = arr.reshape(-1, 4)\n",
    "print(arr1)                    # [[ 0  1  2  3]\n",
    "                               #  [ 4  5  6  7]\n",
    "                               #  [ 8  9 10 11]]\n",
    "\n",
    "arr1 = arr.reshape(2, 2, -1)\n",
    "print(arr1)                     # [[[ 0  1  2]\n",
    "                                #   [ 3  4  5]]\n",
    "\n",
    "                                #  [[ 6  7  8]\n",
    "                                #   [ 9 10 11]]]                       "
   ]
  },
  {
   "cell_type": "code",
   "execution_count": 4,
   "metadata": {
    "pycharm": {
     "name": "#%%\n"
    }
   },
   "outputs": [
    {
     "name": "stdout",
     "output_type": "stream",
     "text": [
      "[ 0  1  2  3  4  5  6  7  8  9 10 11]\n",
      "[[ 0  1  2  3  4  5]\n",
      " [ 6  7  8  9 10 11]]\n"
     ]
    }
   ],
   "source": [
    "# 3) copy()\n",
    "arr = np.arange(0, 12, 1)\n",
    "print(arr)                \n",
    "\n",
    "arr1 = arr.reshape(2, 6).copy()    # View가 아닌, 진짜 shape을 바꾼 ndarray를 만들 때\n",
    "print(arr1)"
   ]
  },
  {
   "cell_type": "markdown",
   "metadata": {},
   "source": [
    "## 2. ```ravel()``` 함수\n",
    "\n",
    ">  ndarray의 모든 요소가 포함된 1차원 vector의 View를 리턴."
   ]
  },
  {
   "cell_type": "code",
   "execution_count": 7,
   "metadata": {
    "pycharm": {
     "name": "#%%\n"
    }
   },
   "outputs": [
    {
     "name": "stdout",
     "output_type": "stream",
     "text": [
      "[[0 1]\n",
      " [2 3]\n",
      " [4 5]\n",
      " [6 7]\n",
      " [8 9]]\n",
      "[0 1 2 3 4 5 6 7 8 9]\n"
     ]
    }
   ],
   "source": [
    "## ndrray의 shape 조절 함수\n",
    "# reshape()을 이용해서 shape를 조절할 수 있다.\n",
    "\n",
    "# ravel() : ndarray의 모든 요소가 포함된 1차원 vector를 리턴.\n",
    "#         - View를 리턴한다.\n",
    "\n",
    "arr = np.arange(0, 10, 1).reshape(5, -1).copy()  # 5 x 20\n",
    "print(arr)      # [[0 1]\n",
    "                #  [2 3]\n",
    "                #  [4 5]\n",
    "                #  [6 7]\n",
    "                #  [8 9]]\n",
    "\n",
    "arr1 = arr.ravel()\n",
    "print(arr1)    # [0 1 2 3 4 5 6 7 8 9]"
   ]
  },
  {
   "cell_type": "markdown",
   "metadata": {},
   "source": [
    "# 9월 7일 (월요일)\n",
    "\n",
    "## Numpy 2번째 시간\n",
    "\n",
    "## 3. `resize()`"
   ]
  },
  {
   "cell_type": "code",
   "execution_count": 11,
   "metadata": {
    "pycharm": {
     "name": "#%%\n"
    }
   },
   "outputs": [
    {
     "name": "stdout",
     "output_type": "stream",
     "text": [
      "[[9 4 0 1]\n",
      " [9 0 1 8]\n",
      " [9 0 8 6]]\n",
      "[[9 4 0 1 9 0]\n",
      " [1 8 9 0 8 6]]\n"
     ]
    }
   ],
   "source": [
    "import numpy as np\n",
    "\n",
    "# 정수 형태의 난수를 이용해서 (3, 4) shape을 가지는 ndarray를 생성\n",
    "np.random.seed(10)\n",
    "arr = np.random.randint(0, 10, (3, 4)) # 0 <= x < 10\n",
    "print(arr)\n",
    "\n",
    "# result = arr.resize(2, 6)           # resize()는 스스로 바뀌고 return 값이 없다\n",
    "# print(result)   # None\n",
    "\n",
    "arr.resize(2, 6)                     # View가 생성되지않고 원본이 바뀐다.\n",
    "print(arr)"
   ]
  },
  {
   "cell_type": "code",
   "execution_count": 14,
   "metadata": {
    "pycharm": {
     "name": "#%%\n"
    }
   },
   "outputs": [
    {
     "name": "stdout",
     "output_type": "stream",
     "text": [
      "[[9 4 0 1 9]\n",
      " [0 1 8 9 0]\n",
      " [8 6 0 0 0]]\n",
      "[[9 4]\n",
      " [0 1]]\n",
      "[[9 4 0 1 0 0]\n",
      " [0 0 0 0 0 0]]\n"
     ]
    }
   ],
   "source": [
    "arr.resize(3, 5)   # reshape()은 요소가 갯수가 맞지 않으면 x\n",
    "                   # resize()는 요소의 갯수가 맞지 않아도 shape이 변경된다.\n",
    "print(arr)         # 요소 수가 늘어나면 모자란 부분은 0으로 세팅\n",
    "\n",
    "arr.resize(2, 2)   # 요소 수가 줄어들면 기존 데이터를 버린다.\n",
    "print(arr)\n",
    "\n",
    "arr.resize(2, 6)\n",
    "print(arr)"
   ]
  },
  {
   "cell_type": "markdown",
   "metadata": {},
   "source": [
    "### 여기까지가 Numpy array (ndarray)의 기본적인 특징\n",
    "\n",
    "\n",
    "# Indexing & Slicing\n",
    "* Python의 list할 때도 indexing과 slicing에 대해서 알아보았다.\n",
    "\n",
    "## 1. 1차원 ndarray"
   ]
  },
  {
   "cell_type": "code",
   "execution_count": 15,
   "metadata": {
    "pycharm": {
     "name": "#%%\n"
    }
   },
   "outputs": [
    {
     "name": "stdout",
     "output_type": "stream",
     "text": [
      "[10 11 12 13 14 15 16 17 18 19]\n"
     ]
    }
   ],
   "source": [
    "import numpy as np\n",
    "\n",
    "arr = np.arange(10, 20, 1)\n",
    "print(arr)"
   ]
  },
  {
   "cell_type": "code",
   "execution_count": 16,
   "metadata": {
    "pycharm": {
     "name": "#%%\n"
    }
   },
   "outputs": [
    {
     "name": "stdout",
     "output_type": "stream",
     "text": [
      "10\n",
      "11\n",
      "12\n",
      "13\n",
      "14\n",
      "15\n",
      "16\n",
      "17\n",
      "18\n",
      "19\n"
     ]
    }
   ],
   "source": [
    "# ndarray의 각 요소를 출력하려면 어떻게 해야 할까?\n",
    "for tmp in arr:\n",
    "    print(tmp)"
   ]
  },
  {
   "cell_type": "markdown",
   "metadata": {},
   "source": [
    "### `enumerate()` 함수"
   ]
  },
  {
   "cell_type": "code",
   "execution_count": 17,
   "metadata": {
    "pycharm": {
     "name": "#%%\n"
    }
   },
   "outputs": [
    {
     "name": "stdout",
     "output_type": "stream",
     "text": [
      "idx : 0, data : 10\n",
      "idx : 1, data : 11\n",
      "idx : 2, data : 12\n",
      "idx : 3, data : 13\n",
      "idx : 4, data : 14\n",
      "idx : 5, data : 15\n",
      "idx : 6, data : 16\n",
      "idx : 7, data : 17\n",
      "idx : 8, data : 18\n",
      "idx : 9, data : 19\n"
     ]
    }
   ],
   "source": [
    "# enumerate() 함수\n",
    "for (idx, tmp) in enumerate(arr):\n",
    "    print(\"idx : {}, data : {}\".format(idx, tmp))"
   ]
  },
  {
   "cell_type": "code",
   "execution_count": 18,
   "metadata": {
    "pycharm": {
     "name": "#%%\n"
    }
   },
   "outputs": [
    {
     "name": "stdout",
     "output_type": "stream",
     "text": [
      "13\n",
      "[11 12 13]\n",
      "[10 11 12 13 14 15 16 17 18]\n",
      "[11 13 15 17]\n"
     ]
    }
   ],
   "source": [
    "arr = np.arange(10, 20, 1)\n",
    "print(arr[3])      # 13\n",
    "print(arr[1:4])    # [11 12 13]\n",
    "print(arr[:-1])    # [10 11 12 13 14 15 16 17 18]\n",
    "print(arr[1:-1:2]) # [11 13 15 17]   2씩 증가"
   ]
  },
  {
   "cell_type": "markdown",
   "metadata": {},
   "source": [
    "## 2. 2차원 ndarray"
   ]
  },
  {
   "cell_type": "code",
   "execution_count": 2,
   "metadata": {
    "pycharm": {
     "name": "#%%\n"
    },
    "scrolled": true
   },
   "outputs": [
    {
     "name": "stdout",
     "output_type": "stream",
     "text": [
      "[[ 1  2  3  4]\n",
      " [ 5  6  7  8]\n",
      " [ 9 10 11 12]\n",
      " [13 14 15 16]]\n"
     ]
    }
   ],
   "source": [
    "import numpy as np\n",
    "\n",
    "arr = np.arange(1, 17, 1).reshape(4, 4).copy()\n",
    "print(arr)"
   ]
  },
  {
   "cell_type": "code",
   "execution_count": 29,
   "metadata": {
    "pycharm": {
     "name": "#%%\n"
    },
    "scrolled": true
   },
   "outputs": [
    {
     "name": "stdout",
     "output_type": "stream",
     "text": [
      "7\n",
      "[5 6 7 8]\n",
      "7\n"
     ]
    }
   ],
   "source": [
    "print(arr[1, 2]) # 7 \n",
    "print(arr[1])    # [5 6 7 8] : 1행\n",
    "print(arr[1][2]) # 7"
   ]
  },
  {
   "cell_type": "code",
   "execution_count": 20,
   "metadata": {
    "pycharm": {
     "name": "#%%\n"
    }
   },
   "outputs": [
    {
     "name": "stdout",
     "output_type": "stream",
     "text": [
      "[6 9 2 4]\n",
      "[[0 0 1 7]\n",
      " [6 9 2 4]]\n",
      "[[0 0]\n",
      " [6 9]]\n"
     ]
    }
   ],
   "source": [
    "print(arr[2, :])    # [ 9 10 11 12] -> 2행\n",
    "\n",
    "print(arr[1:3, :])  # [[ 5  6  7  8]  -> 1 <= x < 3 행\n",
    "                    # [ 9 10 11 12]]\n",
    "\n",
    "print(arr[1:3, :2]) # [[ 5  6]\n",
    "                    # [ 9 10]]"
   ]
  },
  {
   "cell_type": "markdown",
   "metadata": {},
   "source": [
    "# Boolean indexing과 Facy indexing\n",
    "\n",
    "## 1. Boolean Indexing\n",
    "> Boolean Indexing은, ndarray의 각 요소의 선택여부 \n",
    ">  - True, False로 구성된 boolean mask를 이용하여 지정하는 방식\n",
    ">  - boolean mask의 True에 해당하는 index만 조회하는 방식"
   ]
  },
  {
   "cell_type": "code",
   "execution_count": 40,
   "metadata": {
    "pycharm": {
     "name": "#%%\n"
    }
   },
   "outputs": [
    {
     "name": "stdout",
     "output_type": "stream",
     "text": [
      "[5 8 9 5 0]\n",
      "[1 0 1 1 0]\n",
      "[False  True False False  True]\n",
      "[8 0]\n"
     ]
    }
   ],
   "source": [
    "import numpy as np\n",
    "\n",
    "np.random.seed(1)\n",
    "arr = np.random.randint(0, 10, (5, ))\n",
    "print(arr)               # [5 8 9 5 0]\n",
    "print(arr % 2)           # [1 0 1 1 0] -> 1차원 vecotr를 scalar로 계산 \n",
    "                         #  => 1차원으로 브로드캐스팅\n",
    "    \n",
    "print(arr % 2 == 0)      # [False  True False False  True] \n",
    "                         # -> Boolean Mask : 원본과 shape이 똑같은 T/F ndarray\n",
    "print(arr[arr % 2 == 0]) # [8 0] => Boolean Indexing"
   ]
  },
  {
   "cell_type": "markdown",
   "metadata": {},
   "source": [
    "## 2. Fancy Indexing\n",
    "> ndarray애 index 배열을 전달하여 배열 요소를 참조하는 방식"
   ]
  },
  {
   "cell_type": "markdown",
   "metadata": {},
   "source": [
    "## 슬라이싱, 인덱싱, 다중슬라이싱"
   ]
  },
  {
   "cell_type": "code",
   "execution_count": 55,
   "metadata": {},
   "outputs": [
    {
     "name": "stdout",
     "output_type": "stream",
     "text": [
      "[[ 0  1  2  3]\n",
      " [ 4  5  6  7]\n",
      " [ 8  9 10 11]]\n",
      "[[0 1 2 3]\n",
      " [4 5 6 7]]\n",
      "6\n",
      "[[1]\n",
      " [5]]\n"
     ]
    }
   ],
   "source": [
    "a = np.arange(0, 12, 1).reshape(3, 4).copy()\n",
    "print(a)\n",
    "\n",
    "# 슬라이싱\n",
    "print(a[0:2])\n",
    "# [[0 1 2 3]\n",
    "#  [4 5 6 7]]\n",
    "\n",
    "# 인덱싱\n",
    "print(a[1, 2]) # 6\n",
    "\n",
    "# 다중 슬라이싱\n",
    "print(a[0:2, 1:2])\n",
    "# [[1]\n",
    "#  [5]]"
   ]
  },
  {
   "cell_type": "code",
   "execution_count": 21,
   "metadata": {
    "pycharm": {
     "name": "#%%\n"
    },
    "scrolled": true
   },
   "outputs": [
    {
     "name": "stdout",
     "output_type": "stream",
     "text": [
      "[[ 0  1  2  3]\n",
      " [ 4  5  6  7]\n",
      " [ 8  9 10 11]]\n",
      "10\n",
      "[6]\n",
      "[[6]]\n"
     ]
    }
   ],
   "source": [
    "arr = np.arange(0, 12, 1).reshape(3, 4).copy()\n",
    "print(arr)\n",
    "\n",
    "print(arr[2, 2])     # indexing : 10 => Scalar\n",
    "print(arr[1:2, 2])   # slicing 1행, 2열 -> [6] => 1차원 \n",
    "print(arr[1:2, 2:3]) # slicing 1행, 2열 -> [[6]] => 2차원 matrix \n",
    "print(arr[1:2, 1:3]) # [[5 6]]"
   ]
  },
  {
   "cell_type": "markdown",
   "metadata": {},
   "source": [
    "## Fancy Indexing"
   ]
  },
  {
   "cell_type": "code",
   "execution_count": 59,
   "metadata": {},
   "outputs": [
    {
     "name": "stdout",
     "output_type": "stream",
     "text": [
      "[11 14 15]\n",
      "[1 8]\n",
      "[[0 1 2]\n",
      " [6 7 8]]\n"
     ]
    }
   ],
   "source": [
    "import numpy as np\n",
    "\n",
    "a = np.array([10, 11, 12, 13, 14, 15, 16])\n",
    "index = np.array([1, 4, 5])\n",
    "print(a[index])  # [11 14 15]\n",
    "\n",
    "b = np.array([[0, 1, 2], [3, 4, 5], [6, 7, 8]])\n",
    "index = np.array([0, 2])\n",
    "index2 = np.array([1, 2])\n",
    "print(b[index, index2]) # [1 8]\n",
    "\n",
    "print(b[index])\n",
    "# [[0 1 2]\n",
    "#  [6 7 8]]"
   ]
  },
  {
   "cell_type": "code",
   "execution_count": 61,
   "metadata": {},
   "outputs": [
    {
     "name": "stdout",
     "output_type": "stream",
     "text": [
      "[[ 0  1  2  3]\n",
      " [ 4  5  6  7]\n",
      " [ 8  9 10 11]]\n",
      "[ 2 10]\n"
     ]
    }
   ],
   "source": [
    "arr = np.arange(0, 12, 1).reshape(3, 4).copy()\n",
    "print(arr) \n",
    "# [[ 0  1  2  3]\n",
    "#  [ 4  5  6  7]\n",
    "#  [ 8  9 10 11]]\n",
    "print(arr[[0,2], 2])  # [ 2 10]\n",
    "                      # [0, 2] 0번째행, 2번째 행, 떨어져있는 행 지칭 => 인덱스 배열\n",
    "                      # [0, 2] 배열의 2열\n",
    "                      # => [ 2 10]"
   ]
  },
  {
   "cell_type": "code",
   "execution_count": 62,
   "metadata": {},
   "outputs": [
    {
     "name": "stdout",
     "output_type": "stream",
     "text": [
      "[[ 0  1  2  3]\n",
      " [ 4  5  6  7]\n",
      " [ 8  9 10 11]]\n",
      "[[ 0  1  2  3]\n",
      " [ 8  9 10 11]]\n"
     ]
    }
   ],
   "source": [
    "print(arr)\n",
    "print(arr[[0, 2]])"
   ]
  },
  {
   "cell_type": "code",
   "execution_count": 23,
   "metadata": {
    "pycharm": {
     "name": "#%%\n"
    }
   },
   "outputs": [
    {
     "name": "stdout",
     "output_type": "stream",
     "text": [
      "[[ 0  1  2  3]\n",
      " [ 4  5  6  7]\n",
      " [ 8  9 10 11]]\n",
      "[[ 2]\n",
      " [10]]\n"
     ]
    }
   ],
   "source": [
    "print(arr)\n",
    "# [[ 0  1  2  3]\n",
    "#  [ 4  5  6  7]\n",
    "#  [ 8  9 10 11]]\n",
    "\n",
    "print(arr[[0, 2], 2:3])   # Fancy Indexing에 대한 인덱싱 (2:3) =>  ndarray\n",
    "# [[ 2]\n",
    "#  [10]]"
   ]
  },
  {
   "cell_type": "markdown",
   "metadata": {},
   "source": [
    "다음의 ndarray를 추출해 보자 <br>\n",
    "`[[1 3] \n",
    "[9 11]]`\n",
    "- 행과 열에 동시에 fancy indexing이 적용되지 않는다."
   ]
  },
  {
   "cell_type": "code",
   "execution_count": 74,
   "metadata": {
    "pycharm": {
     "name": "#%%\n"
    }
   },
   "outputs": [
    {
     "name": "stdout",
     "output_type": "stream",
     "text": [
      "[[ 0  1  2  3]\n",
      " [ 4  5  6  7]\n",
      " [ 8  9 10 11]]\n",
      "[ 1 11]\n"
     ]
    }
   ],
   "source": [
    "print(arr)\n",
    "print(arr[[0, 2], [1, 3]]) # [ 1 11] => 행, 열에 둘 다 Fancy Indexing => 엥?\n",
    "                           # 행과 열에 동시에 fancy indexing이 적용되지 않기 때문! "
   ]
  },
  {
   "cell_type": "code",
   "execution_count": 75,
   "metadata": {
    "pycharm": {
     "name": "#%%\n"
    }
   },
   "outputs": [
    {
     "name": "stdout",
     "output_type": "stream",
     "text": [
      "[[ 0  1  2  3]\n",
      " [ 4  5  6  7]\n",
      " [ 8  9 10 11]]\n",
      "[[ 1  3]\n",
      " [ 9 11]]\n"
     ]
    }
   ],
   "source": [
    "# 해결방법 1\n",
    "print(arr)\n",
    "print(arr[[0,2]][:, [1, 3]]) # 행을 들고 오고, \n",
    "                             # :은 인덱싱,열에 다시 fancy indexing 적용"
   ]
  },
  {
   "cell_type": "code",
   "execution_count": 76,
   "metadata": {
    "pycharm": {
     "name": "#%%\n"
    }
   },
   "outputs": [
    {
     "name": "stdout",
     "output_type": "stream",
     "text": [
      "[[ 1  3]\n",
      " [ 9 11]]\n"
     ]
    }
   ],
   "source": [
    "# 해결 2 - Numpy가 함수를 제공한다.\n",
    "print(arr[np.ix_([0,2], [1,3])])"
   ]
  },
  {
   "cell_type": "markdown",
   "metadata": {},
   "source": [
    "# ndarray의 사칙연산과 행렬곱\n",
    "- 사칙연산 : +, -, *, /\n",
    "- 행렬곱 : **dot product**\n",
    "- **Broadcasting**은 사칙연산에서만 일어나고, dot product에서는 일어나지 않는다!\n",
    "\n",
    "## 1. 행렬 덧셈\n",
    "- python의 list에서, + 연산자는 concatenation!!\n",
    "- ndarray에서 + 연산자는 vector, matrix 연산\n",
    "- ndarray의 사칙연산의 기본 전제는 shape이 같아야 연산이 성립"
   ]
  },
  {
   "cell_type": "code",
   "execution_count": 77,
   "metadata": {
    "pycharm": {
     "name": "#%%\n"
    }
   },
   "outputs": [
    {
     "name": "stdout",
     "output_type": "stream",
     "text": [
      "[[1 2 3]\n",
      " [4 5 6]]\n",
      "[[ 7  8  9]\n",
      " [10 11 12]]\n",
      "[[ 8 10 12]\n",
      " [14 16 18]]\n"
     ]
    }
   ],
   "source": [
    "import numpy as np\n",
    "\n",
    "arr1 = np.array([[1, 2, 3], [4, 5, 6]])     # 2 x 3 ndarray\n",
    "arr2 = np.array([[7, 8, 9], [10, 11, 12]])  # 2 x 3 ndarray\n",
    "print(arr1)\n",
    "print(arr2)\n",
    "\n",
    "print(arr1 + arr2)                          # ndarray의 기본 연산 방식"
   ]
  },
  {
   "cell_type": "markdown",
   "metadata": {},
   "source": [
    "### 행렬 덧셈의 Broadcasting"
   ]
  },
  {
   "cell_type": "code",
   "execution_count": 78,
   "metadata": {
    "pycharm": {
     "name": "#%%\n"
    }
   },
   "outputs": [
    {
     "name": "stdout",
     "output_type": "stream",
     "text": [
      "[[4 5 6]\n",
      " [7 8 9]]\n"
     ]
    }
   ],
   "source": [
    "arr2 = 3 # scalar는 값을 칭한다.\n",
    "         # shape이 안맞는 경우, ndarray가 broadcasting을 진행\n",
    "print(arr1 + arr2)"
   ]
  },
  {
   "cell_type": "code",
   "execution_count": 79,
   "metadata": {
    "pycharm": {
     "name": "#%%\n"
    }
   },
   "outputs": [
    {
     "name": "stdout",
     "output_type": "stream",
     "text": [
      "[[2 4 6]\n",
      " [5 7 9]]\n"
     ]
    }
   ],
   "source": [
    "arr2 = np.array([1, 2, 3])\n",
    "# [[1, 2, 3]\n",
    "#  [1, 2, 3]]  => broadcasting\n",
    "print(arr1 + arr2)\n",
    "\n",
    "# arr2 = np.array([1, 2]) --broadcasting X---> [1, 2, 1, 2]"
   ]
  },
  {
   "cell_type": "markdown",
   "metadata": {},
   "source": [
    "## 2. 행렬 곱 연산\n",
    "> 두 행렬간의 행렬곱은 `np.dot()`, `np.matmul()`로 수행이 가능하다.\n",
    "\n",
    "### `np.dot(A, B)`\n",
    "> - `np.dot(A, B)`에서 A 행렬의 열 vecotr와, B 행렬의 행 vecotr의 size가 같아야 한다.\n",
    "> - 만약 크기가 다르다면, `reshape()`이나 `resize()` .. 등으로 크기를 맞춘 후 연산을 수행해야 한다."
   ]
  },
  {
   "cell_type": "code",
   "execution_count": 80,
   "metadata": {
    "pycharm": {
     "name": "#%%\n"
    }
   },
   "outputs": [
    {
     "name": "stdout",
     "output_type": "stream",
     "text": [
      "(2, 3)\n",
      "(3, 2)\n"
     ]
    }
   ],
   "source": [
    "arr1 = np.array([[1, 2, 3], [4, 5, 6]]) \n",
    "arr2 = np.array([[7, 8],[9, 10], [11, 12]]) \n",
    "print(arr1.shape)          \n",
    "print(arr2.shape)\n",
    "\n",
    "print(np.dot(arr1, arr2))   # [[ 58  64]\n",
    "                            # [139 154]]"
   ]
  },
  {
   "cell_type": "markdown",
   "metadata": {},
   "source": [
    "* *왜 이런 행렬곱 연산을 알아야 하나요?*\n",
    " - 만약 행렬곱 연산이 없으면 matrix 연산은 같은 크기로만 연산을 수행해야 한다.\n",
    " - 행렬곱 조건만 만족시키면 다양한 크기의 행렬을 우리가 연속적으로 이용해서 특정 작업을 수행할 수 있다\n",
    " - 머신러닝, 이미지처리 쪽에서 사용된다.\n",
    "  - 예) 입력 : 32 x 32 matrix (이미지파일)\n",
    "  -     출력 : 32 x 10 matrix (다양한 처리가 적용된 이미지)\n",
    "  -     행렬곱 : (32 x 32) dot (32 x 128) dot (128 x 64) dot (64 x 10)\n",
    "  -       => 32 x 10"
   ]
  },
  {
   "cell_type": "markdown",
   "metadata": {},
   "source": [
    "## 3. Transpose \n",
    "> 전치행렬\n",
    "> - 원본행렬의 행은 열로, 열은 행으로 바꾼 행렬을 의미한다.\n",
    "> - 전치행렬의 표현은 윗첨자로 T를 이용한다."
   ]
  },
  {
   "cell_type": "code",
   "execution_count": 88,
   "metadata": {},
   "outputs": [
    {
     "name": "stdout",
     "output_type": "stream",
     "text": [
      "[[1 2 3]\n",
      " [4 5 6]]\n",
      "[[1 4]\n",
      " [2 5]\n",
      " [3 6]]\n"
     ]
    }
   ],
   "source": [
    "import numpy as np\n",
    "\n",
    "arr = np.array([[1, 2, 3], [4, 5, 6]]) # 2 x 3 ndarray\n",
    "\n",
    "t_arr = arr.T  # 3 x 2 ndaray\n",
    "\n",
    "# [[1 2 3]       [[1 4]\n",
    "# [4 5 6]]  =>   [2 5]\n",
    "#                [3 6]]\n",
    "#   2 x 3   ->   3 x 2\n",
    "\n",
    "print(arr)\n",
    "print(t_arr)"
   ]
  },
  {
   "cell_type": "markdown",
   "metadata": {},
   "source": [
    "원본 행렬의 값을 바꾸면 전치 행렬도 바뀐다."
   ]
  },
  {
   "cell_type": "code",
   "execution_count": 89,
   "metadata": {
    "scrolled": false
   },
   "outputs": [
    {
     "name": "stdout",
     "output_type": "stream",
     "text": [
      "[[100   2   3]\n",
      " [  4   5   6]]\n",
      "[[100   4]\n",
      " [  2   5]\n",
      " [  3   6]]\n"
     ]
    }
   ],
   "source": [
    "arr[0][0] = 100\n",
    "print(arr)\n",
    "print(t_arr)"
   ]
  },
  {
   "cell_type": "markdown",
   "metadata": {},
   "source": [
    "**벡터**(= 1차원 ndarray) 는 전치행렬이 의미가 없다."
   ]
  },
  {
   "cell_type": "code",
   "execution_count": 91,
   "metadata": {
    "scrolled": true
   },
   "outputs": [
    {
     "name": "stdout",
     "output_type": "stream",
     "text": [
      "[1 2 3 4]\n",
      "[1 2 3 4]\n",
      "[[1]\n",
      " [2]\n",
      " [3]\n",
      " [4]]\n"
     ]
    }
   ],
   "source": [
    "arr  = np.array([1, 2, 3, 4])  # vecotr (1차원 ndarray)\n",
    "t_arr = arr.T\n",
    "\n",
    "print(arr)    # [1 2 3 4]\n",
    "print(t_arr)  # # [1 2 3 4] => 벡터는 전치행렬이 의미가 x\n",
    "\n",
    "# 하려면 이렇게\n",
    "t_arr = arr.reshape(4, 1)\n",
    "print(t_arr)\n",
    "# [[1]\n",
    "#  [2]\n",
    "#  [3]\n",
    "#  [4]]"
   ]
  },
  {
   "cell_type": "markdown",
   "metadata": {},
   "source": [
    "## 4. Numpy Iterator\n",
    "\n",
    "> Iterator의 동작 방식과, 왜 쓰는지를 알아야 한다!!\n",
    "> - Iterator : ndarray의 각 요소를 가르키는 *객체*\n",
    "\n",
    "### 1) 1차원 -> `c_index`"
   ]
  },
  {
   "cell_type": "code",
   "execution_count": 92,
   "metadata": {
    "pycharm": {
     "name": "#%%\n"
    }
   },
   "outputs": [
    {
     "name": "stdout",
     "output_type": "stream",
     "text": [
      "1 2 3 4 5 "
     ]
    }
   ],
   "source": [
    "import numpy as np\n",
    "\n",
    "# 1차원 ndarray를 만들어서 각 요소 출력\n",
    "arr = np.array([1, 2, 3, 4, 5])\n",
    "\n",
    "# for문 이용\n",
    "for tmp in arr:\n",
    "    print(tmp, end=' ')\n",
    "# 1 2 3 4 5 "
   ]
  },
  {
   "cell_type": "code",
   "execution_count": 95,
   "metadata": {
    "pycharm": {
     "name": "#%%\n"
    }
   },
   "outputs": [
    {
     "name": "stdout",
     "output_type": "stream",
     "text": [
      "1 2 3 4 5 "
     ]
    }
   ],
   "source": [
    "# 이 작업을 iterator를 이용해서 구현\n",
    "arr = np.array([1, 2, 3, 4, 5])\n",
    "it = np.nditer(arr, flags=['c_index']) # 1차원인 경우 - index 사용\n",
    "\n",
    "while not it.finished:    #iterator가 지정하는 위치가 끝이 아닐 동안 반복\n",
    "    idx = it.index         # iterator가 현재 가리키는 곳의 index 숫자를 가르킨다.\n",
    "    print(arr[idx], end=' ')\n",
    "    it.iternext()          # iterator를 다음 요소로 이동시키는 작업\n",
    "# 1 2 3 4 5 "
   ]
  },
  {
   "cell_type": "markdown",
   "metadata": {},
   "source": [
    "### 2) 2차원 -> `multi_index`"
   ]
  },
  {
   "cell_type": "code",
   "execution_count": 97,
   "metadata": {
    "pycharm": {
     "name": "#%%\n"
    }
   },
   "outputs": [
    {
     "name": "stdout",
     "output_type": "stream",
     "text": [
      "1 2 3 4 5 6 "
     ]
    }
   ],
   "source": [
    "# 2차원 ndarray에 대해서 각 요소를 순서대로 출력하기\n",
    "# - 0행 0열 -> 0행 1열 -> 0행 2열 -> 1행 0열 -> 1행 1열\n",
    "\n",
    "arr = np.array([[1, 2, 3], [4, 5, 6]])\n",
    "\n",
    "for row in range(arr.shape[0]):\n",
    "    for col in range(arr.shape[1]):\n",
    "        print(arr[row, col], end= ' ')\n",
    "# 1 2 3 4 5 6 "
   ]
  },
  {
   "cell_type": "code",
   "execution_count": null,
   "metadata": {
    "pycharm": {
     "name": "#%%\n"
    }
   },
   "outputs": [],
   "source": [
    "# 만약 3차원이면 => for문이 3번 돌아야 한다.\n",
    "# 차원이 높아질 수록 코드 처리가 힘들어진다.\n",
    "\n",
    "# 이 작업을 iterator를 이용해서 구현\n",
    "arr = np.array([[1, 2, 3], [4, 5, 6]])\n",
    "it = np.nditer(arr, flags=['multi_index']) # 다차원에서 사용됨\n",
    "\n",
    "while not it.finished:    #iterator가 지정하는 위치가 끝이 아닐 동안 반복\n",
    "    idx = it.multi_index         # iterator가 현재 가리키는 곳의 index 숫자를 가르킨다.\n",
    "    print(arr[idx], end=' ')\n",
    "    print(idx)\n",
    "    it.iternext()          # iterator를 다음 요소로 이동시키는 작업\n",
    "# 1 (0, 0)\n",
    "# 2 (0, 1)\n",
    "# 3 (0, 2)\n",
    "# 4 (1, 0)\n",
    "# 5 (1, 1)\n",
    "# 6 (1, 2)"
   ]
  },
  {
   "cell_type": "markdown",
   "metadata": {},
   "source": [
    "# ndarray의 비교연산\n",
    "> 사칙연산과 마찬가지로 비교연산도 같은 index끼리 수행된다."
   ]
  },
  {
   "cell_type": "code",
   "execution_count": null,
   "metadata": {
    "pycharm": {
     "name": "#%%\n"
    }
   },
   "outputs": [],
   "source": [
    "np.random.seed(0)\n",
    "arr1 = np.random.randint(0, 10, (2, 3))\n",
    "arr2 = np.random.randint(0, 10, (2, 3))\n",
    "print(arr1)\n",
    "print(arr2)\n",
    "\n",
    "print(arr1 == arr2) # Boolean Mask 출력\n",
    "# [[False False False]\n",
    "#  [False  True False]]"
   ]
  },
  {
   "cell_type": "markdown",
   "metadata": {},
   "source": [
    "## `array_equal()`"
   ]
  },
  {
   "cell_type": "code",
   "execution_count": null,
   "metadata": {
    "pycharm": {
     "name": "#%%\n"
    }
   },
   "outputs": [],
   "source": [
    "# 만약, 2개의 ndarray가 같은 데이터를 가지고 있는지 비교할 때 => array_equal()\n",
    "arr1 = np.arange(10)\n",
    "arr2 = np.arange(10)\n",
    "\n",
    "print(arr1)\n",
    "print(arr2)\n",
    "print(np.array_equal(arr1, arr2)) # True"
   ]
  },
  {
   "cell_type": "markdown",
   "metadata": {},
   "source": [
    "# Numpy 집계함수 & axis(축)"
   ]
  },
  {
   "cell_type": "markdown",
   "metadata": {},
   "source": [
    "## 집계함수"
   ]
  },
  {
   "cell_type": "code",
   "execution_count": 98,
   "metadata": {
    "pycharm": {
     "name": "#%%\n"
    }
   },
   "outputs": [
    {
     "name": "stdout",
     "output_type": "stream",
     "text": [
      "[[1 2 3]\n",
      " [4 5 6]]\n",
      "21\n"
     ]
    }
   ],
   "source": [
    "# 합계\n",
    "\n",
    "import numpy as np\n",
    "\n",
    "arr = np.arange(1, 7, 1).reshape(2, 3).copy()\n",
    "print(arr)\n",
    "\n",
    "result = 0\n",
    "for row in range(arr.shape[0]):\n",
    "    for col in range(arr.shape[1]):\n",
    "        result += arr[row,col]\n",
    "        \n",
    "print(result)         # 21"
   ]
  },
  {
   "cell_type": "code",
   "execution_count": null,
   "metadata": {
    "pycharm": {
     "name": "#%%\n"
    }
   },
   "outputs": [],
   "source": [
    "print(arr.sum())      # 21\n",
    "\n",
    "print(np.sum(arr))    # 21\n",
    "\n",
    "print(np.cumsum(arr)) # 누적합 => [ 1  3  6 10 15 21]\n",
    "print(np.mean(arr))   # 3.5\n",
    "print(np.max(arr))    # 6\n",
    "print(np.min(arr))    # 1\n",
    "\n",
    "print(np.argmax(arr)) # 최대값의 인덱스/ 순번 => 5\n",
    "print(np.argmin(arr)) # 최소값의 인덱스/순번 => 0\n",
    "print(np.std(arr))    # 표준편차 1.707\n",
    "\n",
    "print(np.exp(arr))    # 자연상수 2.718... (자연로그의 승)\n",
    "# [[  2.71828183   7.3890561   20.08553692]\n",
    "#  [ 54.59815003 148.4131591  403.42879349]]\n",
    "\n",
    "print(np.log10(arr))  # 상용로그값\n",
    "# [[0.         0.30103    0.47712125]\n",
    "#  [0.60205999 0.69897    0.77815125]]"
   ]
  },
  {
   "cell_type": "markdown",
   "metadata": {},
   "source": [
    "이런 집계함수와 수학함수가 제공된다.\n",
    "* Numpy의 모든 집계함수는 axis를 기준으로 집계된다.\n",
    "* `np.sum()`\n",
    "* 만약, axis를 지정하지 않으면 axis는 None으로 설정되고, 함수의 대상 범위를 전체 ndarray로 지정하게 된다.\n",
    "* 1차원은 축이 1개, 2차원은 축이 2개, 3차원은 축이 3개\n",
    "    * 이 축 (axis)는 숫자로 표현한다.\n",
    "* 1차원인 경우 axis = 0 열방향/ 세로방향\n",
    "\n",
    "## axis를 어떻게 설정하고 어떤 효과가 나타나는지?\n",
    "> 1차원은 축이 1개, 2차원은 축이 2개, 3차원은 축이 3개"
   ]
  },
  {
   "cell_type": "markdown",
   "metadata": {},
   "source": [
    "## 1. 1차원\n",
    "- axis를 지정하지 않으면, 전체 ndarray를 대상으로 `sum()` 수행"
   ]
  },
  {
   "cell_type": "code",
   "execution_count": 100,
   "metadata": {
    "pycharm": {
     "name": "#%%\n"
    }
   },
   "outputs": [
    {
     "name": "stdout",
     "output_type": "stream",
     "text": [
      "[1 2 3 4 5]\n",
      "15\n",
      "15\n"
     ]
    }
   ],
   "source": [
    "arr = np.array([1, 2, 3, 4, 5])\t\t\n",
    "print(arr)\t\t\t\t\t\t\t# [1 2 3 4 5]\n",
    "print(arr.sum()) \t\t\t\t\t# 15 \n",
    "print(arr.sum(axis=0)) \t\t\t\t# 15"
   ]
  },
  {
   "cell_type": "markdown",
   "metadata": {},
   "source": [
    "## 2. 2차원\n",
    "- 2차원 `axis=0` => 행 방향/ 세로 방향 -> ????\n",
    "- 2차원 `axis=1` => 열 방향/ 가로 방향"
   ]
  },
  {
   "cell_type": "code",
   "execution_count": 101,
   "metadata": {},
   "outputs": [
    {
     "name": "stdout",
     "output_type": "stream",
     "text": [
      "[[1 2 3]\n",
      " [4 5 6]]\n",
      "21\n",
      "[5 7 9]\n",
      "[ 6 15]\n",
      "[1 1 1]\n",
      "[2 2]\n"
     ]
    }
   ],
   "source": [
    "arr = np.array([[1, 2, 3], [4, 5, 6]])\n",
    "print(arr)                          # [[1 2 3]\t\t\t\t\t\t\t\n",
    "                                    # [4 5 6]]\n",
    "print(arr.sum())\t\t\t\t\t# 21\n",
    "print(arr.sum(axis=0))  \t\t\t# [5 7 9]\n",
    "print(arr.sum(axis=1))  \t\t\t# [ 6 15]\n",
    "\n",
    "print(arr.argmax(axis=0)) \t\t\t# [1 1 1]\n",
    "print(arr.argmax(axis=1)) \t\t\t# [2 2]"
   ]
  },
  {
   "cell_type": "markdown",
   "metadata": {},
   "source": [
    "## 3. 3차원"
   ]
  },
  {
   "cell_type": "code",
   "execution_count": 102,
   "metadata": {
    "pycharm": {
     "name": "#%%\n"
    }
   },
   "outputs": [
    {
     "name": "stdout",
     "output_type": "stream",
     "text": [
      "[[[5 8 9]\n",
      "  [5 0 0]]\n",
      "\n",
      " [[1 7 6]\n",
      "  [9 2 4]]]\n",
      "56\n",
      "[[ 6 15 15]\n",
      " [14  2  4]]\n",
      "[[10  8  9]\n",
      " [10  9 10]]\n",
      "[[22  5]\n",
      " [14 15]]\n"
     ]
    }
   ],
   "source": [
    "np.random.seed(1)\n",
    "arr1 = np.random.randint(0, 10, (2, 2, 3))\n",
    "print(arr1)\n",
    "# [[[5 8 9]\n",
    "#   [5 0 0]]\n",
    "\n",
    "#  [[1 7 6]\n",
    "#   [9 2 4]]]\n",
    "\n",
    "print(arr1.sum())        # 56\n",
    "\n",
    "print(arr1.sum(axis=0))  # 3차원에서 axis=0 => depth 방향\n",
    "# [[ 6 15 15]\n",
    "#  [14  2  4]]\n",
    "\n",
    "print(arr1.sum(axis=1))  # 3차원에서 axis=1 => 행 방향/ 세로 방향\n",
    "# [[10  8  9]\n",
    "#  [10  9 10]]\n",
    "\n",
    "print(arr1.sum(axis=2))  # 3차원에서 axis=0 => 열 방향 / 가로 방향\n",
    "# [[22  5]\n",
    "#  [14 15]]"
   ]
  },
  {
   "cell_type": "markdown",
   "metadata": {},
   "source": [
    "## Numpy 집계함수를 사용해야 하는 이유\n",
    "* 집계함수를 사용하는 시간과 로직으로 연산을 수행하는 시간을 비교"
   ]
  },
  {
   "cell_type": "code",
   "execution_count": 103,
   "metadata": {
    "pycharm": {
     "name": "#%%\n"
    }
   },
   "outputs": [
    {
     "name": "stdout",
     "output_type": "stream",
     "text": [
      "[0.0000e+00 1.0000e+00 2.0000e+00 ... 9.9997e+04 9.9998e+04 9.9999e+04]\n"
     ]
    }
   ],
   "source": [
    "import numpy as np\n",
    "\n",
    "arr = np.arange(100000, dtype=np.float64) \n",
    "print(arr)"
   ]
  },
  {
   "cell_type": "code",
   "execution_count": 104,
   "metadata": {
    "pycharm": {
     "name": "#%%\n"
    }
   },
   "outputs": [
    {
     "name": "stdout",
     "output_type": "stream",
     "text": [
      "500000\n",
      "Wall time: 24.9 ms\n"
     ]
    }
   ],
   "source": [
    "%%time\n",
    "\n",
    "# for문을 이용해서 합을 구하거나\n",
    "arr = np.arange(100000, dtype=np.float64) \n",
    "result = 0\n",
    "for tim in arr:\n",
    "    result += tmp\n",
    "\n",
    "print(result)\n",
    "# 500000\n",
    "# Wall time: 36.9 ms"
   ]
  },
  {
   "cell_type": "code",
   "execution_count": 105,
   "metadata": {
    "pycharm": {
     "name": "#%%\n"
    }
   },
   "outputs": [
    {
     "name": "stdout",
     "output_type": "stream",
     "text": [
      "4999950000.0\n",
      "Wall time: 998 µs\n"
     ]
    }
   ],
   "source": [
    "%%time\n",
    "\n",
    "# 집계함수를 이용해서 구할 수 있다.\n",
    "arr = np.arange(100000, dtype=np.float64) \n",
    "print(arr.sum())\n",
    "# 4999950000.0\n",
    "# Wall time: 958 µs"
   ]
  },
  {
   "cell_type": "markdown",
   "metadata": {},
   "source": [
    "## 연습문제"
   ]
  },
  {
   "cell_type": "code",
   "execution_count": 106,
   "metadata": {
    "pycharm": {
     "name": "#%%\n"
    }
   },
   "outputs": [
    {
     "name": "stdout",
     "output_type": "stream",
     "text": [
      "[[ 1  2  3  4]\n",
      " [ 5  6  7  8]\n",
      " [ 9 10 11 12]\n",
      " [13 14 15 16]]\n",
      "6\n"
     ]
    }
   ],
   "source": [
    "import numpy as np\n",
    "\n",
    "arr = np.arange(1, 17).reshape(4, 4).copy()\n",
    "print(arr)\n",
    "\n",
    "# ndarray안에 10보다 큰 수가 몇개 있는지 알아보자\n",
    "it = np.nditer(arr, flags=['multi_index'])\n",
    "cnt = 0\n",
    "while not it.finished:\n",
    "    idx = it.multi_index\n",
    "    if arr[idx] > 10:\n",
    "        cnt += 1\n",
    "    it.iternext()\n",
    "it = np.nditer(arr, flags=['multi_index']) \n",
    "print(cnt)"
   ]
  },
  {
   "cell_type": "code",
   "execution_count": 113,
   "metadata": {
    "pycharm": {
     "name": "#%%\n"
    }
   },
   "outputs": [
    {
     "name": "stdout",
     "output_type": "stream",
     "text": [
      "6\n",
      "[[False False False False]\n",
      " [False False False False]\n",
      " [False False  True  True]\n",
      " [ True  True  True  True]]\n",
      "[11 12 13 14 15 16]\n"
     ]
    }
   ],
   "source": [
    "# 가장 쉬운 방법은, for문과 if문을 이용한 로직 처리\n",
    "\n",
    "# boolean mask 이용\n",
    "arr = np.arange(1, 17).reshape(4, 4).copy()\n",
    "print((arr > 10).sum())  # 6\n",
    "\n",
    "print(arr>10) # True만 1이니 sum()을 하면 갯수가 나온다.\n",
    "# [[False False False False]\n",
    "#  [False False False False]\n",
    "#  [False False  True  True]\n",
    "#  [ True  True  True  True]]\n",
    "\n",
    "print(arr[arr>10])\n",
    "# [11 12 13 14 15 16]"
   ]
  },
  {
   "cell_type": "markdown",
   "metadata": {},
   "source": [
    "# ndarray 정렬\n",
    "> * Numpy array는 axis를 기준으로 정렬하는 `sort()` 함수 제공\n",
    "> * 만약, axis를 지정하지 않으면 -1값으로 지정 => 마지막 axis\n",
    "> * np.sort() : 원본은 변하지 않고, 정렬된 결과 ndarray를 리턴\n",
    "> * arr.sort() : 원본을 정렬, return은 None"
   ]
  },
  {
   "cell_type": "markdown",
   "metadata": {},
   "source": [
    "## 1) 1차원 ndarray 정렬"
   ]
  },
  {
   "cell_type": "code",
   "execution_count": 119,
   "metadata": {
    "pycharm": {
     "name": "#%%\n"
    }
   },
   "outputs": [
    {
     "name": "stdout",
     "output_type": "stream",
     "text": [
      "[0 1 2 3 4 5 6 7 8 9]\n",
      "[0 1 2 3 4 5 6 7 8 9]\n",
      "[0 2 4 6 8]\n",
      "[9 8 7 6 5 4 3 2 1 0]\n"
     ]
    }
   ],
   "source": [
    "import numpy as np\n",
    "\n",
    "arr = np.arange(10)\n",
    "np.random.shuffle(arr)\n",
    "\n",
    "print(np.sort(arr))   # 오름차순 정렬 (default)\n",
    "\n",
    "# ndarray는 특수한 indexing 제공 => 역순으로 정렬하기 위한 index\n",
    "print(np.sort(arr)[::1]) # 한칸씩 움직이기 \n",
    "# [0 1 2 3 4 5 6 7 8 9]\n",
    "\n",
    "print(np.sort(arr)[::2])\n",
    "# [0 2 4 6 8]\n",
    "\n",
    "print(np.sort(arr)[::-1]) # 역 정렬\n",
    "# [9 8 7 6 5 4 3 2 1 0]"
   ]
  },
  {
   "cell_type": "markdown",
   "metadata": {},
   "source": [
    "## 2) 2차원 ndarray 정렬"
   ]
  },
  {
   "cell_type": "code",
   "execution_count": 126,
   "metadata": {},
   "outputs": [
    {
     "name": "stdout",
     "output_type": "stream",
     "text": [
      "[[11  2  1 12]\n",
      " [13 10 15  4]\n",
      " [ 9  8 14  3]\n",
      " [16  6  5  7]]\n",
      "[[ 9  2  1  3]\n",
      " [11  6  5  4]\n",
      " [13  8 14  7]\n",
      " [16 10 15 12]]\n",
      "[[ 1  2 11 12]\n",
      " [ 4 10 13 15]\n",
      " [ 3  8  9 14]\n",
      " [ 5  6  7 16]]\n"
     ]
    }
   ],
   "source": [
    "arr = np.arange(1, 17)\n",
    "np.random.shuffle(arr)\n",
    "arr = arr.reshape(4, 4).copy()\n",
    "print(arr)\n",
    "# [[11  2  1 12]\n",
    "#  [13 10 15  4]\n",
    "#  [ 9  8 14  3]\n",
    "#  [16  6  5  7]]\n",
    "\n",
    "\n",
    "# 2차원 axis=0 => 행/세로방향\n",
    "print(np.sort(arr, axis=0))\n",
    "# [[ 9  2  1  3]\n",
    "#  [11  6  5  4]\n",
    "#  [13  8 14  7]\n",
    "#  [16 10 15 12]]\n",
    "\n",
    "# 2차원 axis=1 => 열/가로방향\n",
    "print(np.sort(arr, axis=1))\n",
    "# [[ 1  2 11 12]\n",
    "#  [ 4 10 13 15]\n",
    "#  [ 3  8  9 14]\n",
    "#  [ 5  6  7 16]]"
   ]
  },
  {
   "cell_type": "markdown",
   "metadata": {},
   "source": [
    "## 연습문제\n",
    "> 표준정규분포에서 200개의 샘플을 추출한 후, 내림차순으로 상위 5%까지의 결과만 출력"
   ]
  },
  {
   "cell_type": "code",
   "execution_count": 127,
   "metadata": {
    "pycharm": {
     "name": "#%%\n"
    }
   },
   "outputs": [
    {
     "name": "stdout",
     "output_type": "stream",
     "text": [
      "[2.46162831 2.38520581 2.2968661  2.21191487 1.97969053 1.76939854\n",
      " 1.76760095 1.73907303 1.73738467 1.68849705]\n"
     ]
    }
   ],
   "source": [
    "import numpy as np\n",
    "\n",
    "arr = np.random.randn(200)\n",
    "print(np.sort(arr)[::-1][1:11]) # 이게 맞나"
   ]
  },
  {
   "cell_type": "markdown",
   "metadata": {},
   "source": [
    "# ndarray의 원소 추가와 삭제\n",
    "\n",
    "## 1) `concatenate()` \n",
    "> 원소 추가 \n",
    "> - ndarray에 row(s) 혹은 column(s)을 추가 하기 위한 함수\n",
    "> - `result = np.concatenate(어떤것을 서로 붙일지, 행으로 붙일지 열로 붙일지)`\n",
    "    > - `axis=0`: 행방향/ 가로방향\n",
    "- Python list의 원소 추가 : `append()`\n",
    "- ndarray의 원소 추가\n",
    "    - `append()`가 있긴 하지만 잘 쓰진 않는다.\n",
    "    - `concatenate()`를 더 많이 쓴다.\n",
    "    \n",
    "### 하나의 ndarray와 다른 ndarray 연결\n",
    "- arr에 new_row vector를 하단에 붙인다.\n",
    "- 결과적으로 3 x 3 matrix 생성"
   ]
  },
  {
   "cell_type": "code",
   "execution_count": 128,
   "metadata": {
    "pycharm": {
     "name": "#%%\n"
    }
   },
   "outputs": [
    {
     "name": "stdout",
     "output_type": "stream",
     "text": [
      "[[1 2 3]\n",
      " [4 5 6]\n",
      " [7 8 9]]\n"
     ]
    }
   ],
   "source": [
    "import numpy as np\n",
    "\n",
    "arr = np.array([[1, 2, 3], [4, 5, 6]]) # 2 x 3 ndarray\n",
    "new_row = np.array([7, 8, 9])\n",
    "\n",
    "# arr에 new_row vector를 하단에 붙인다.\n",
    "# 결과적으로 3 x 3 matrix 생성\n",
    "\n",
    "result = np.concatenate((arr, new_row.reshape(1, 3)), axis=0)\n",
    "print(result)\n",
    "# [[1 2 3]\n",
    "#  [4 5 6]\n",
    "#  [7 8 9]]"
   ]
  },
  {
   "cell_type": "markdown",
   "metadata": {},
   "source": [
    "## 2) `delete()`\n",
    "> - axis를 기준으로 행과 열을 삭제\n",
    "> - 만약 axis를 지정하지 않으면 1차원 배열로 변환 후 삭제\n",
    "> - 원본을 변경하지 않고 처리가 된 새 배열을 return\n",
    "\n",
    "### axis를 지정하지 않으면, 1차원 배열로 자동변경된 후 인덱스 삭제"
   ]
  },
  {
   "cell_type": "code",
   "execution_count": 129,
   "metadata": {
    "pycharm": {
     "name": "#%%\n"
    }
   },
   "outputs": [
    {
     "name": "stdout",
     "output_type": "stream",
     "text": [
      "[[5 8 9 5]\n",
      " [0 0 1 7]\n",
      " [6 9 2 4]]\n",
      "[5 9 5 0 0 1 7 6 9 2 4]\n"
     ]
    }
   ],
   "source": [
    "import numpy as np\n",
    "\n",
    "np.random.seed(1)\n",
    "arr = np.random.randint(0, 10, (3, 4))\n",
    "print(arr)\n",
    "\n",
    "result = np.delete(arr, 1) # axis가 설정되지 않았기 때문에\n",
    "                           # 1차원 배열로 자동 변경된 후 인덱스를 삭제\n",
    "print(result)\n",
    "# [5 8 9 5 0 0 1 7 6 9 2 4]\n",
    "# [5 9 5 0 0 1 7 6 9 2 4]"
   ]
  },
  {
   "cell_type": "markdown",
   "metadata": {},
   "source": [
    "### `axis=0`=> 행 번호, `axis=1` => 열 번호 삭제"
   ]
  },
  {
   "cell_type": "code",
   "execution_count": 130,
   "metadata": {
    "pycharm": {
     "name": "#%%\n"
    }
   },
   "outputs": [
    {
     "name": "stdout",
     "output_type": "stream",
     "text": [
      "[[5 8 9 5]\n",
      " [0 0 1 7]\n",
      " [6 9 2 4]]\n",
      "[[5 8 9 5]\n",
      " [6 9 2 4]]\n",
      "[[5 9 5]\n",
      " [0 1 7]\n",
      " [6 2 4]]\n"
     ]
    }
   ],
   "source": [
    "np.random.seed(1)\n",
    "\n",
    "arr = np.random.randint(0, 10, (3, 4))\n",
    "print(arr)\n",
    "# [[5 8 9 5]\n",
    "#  [0 0 1 7]\n",
    "#  [6 9 2 4]]\n",
    "\n",
    "result = np.delete(arr, 1, axis=0) # 행번호 1번 삭제           \n",
    "print(result)\n",
    "# [[5 8 9 5]\n",
    "#  [6 9 2 4]]\n",
    "\n",
    "result = np.delete(arr, 1, axis=1) # 열번호 1번 삭제           \n",
    "print(result)\n",
    "# [[5 9 5]\n",
    "#  [0 1 7]\n",
    "#  [6 2 4]]"
   ]
  },
  {
   "cell_type": "markdown",
   "metadata": {},
   "source": [
    "# 연습문제\n"
   ]
  },
  {
   "cell_type": "code",
   "execution_count": 14,
   "metadata": {},
   "outputs": [
    {
     "name": "stdout",
     "output_type": "stream",
     "text": [
      "[[1 2 3]\n",
      " [4 5 6]\n",
      " [7 8 9]]\n"
     ]
    }
   ],
   "source": [
    "import numpy as np\n",
    "\n",
    "arr = np.array([[1, 2, 3], [4, 5, 6]]) # 2 x 3 ndarray\n",
    "new_row = np.array([7, 8, 9])\n",
    "\n",
    "# arra에 new_row vector를 하단에 붙인다.\n",
    "# 결과적으로 3 x 3 matrix 생성\n",
    "\n",
    "# result = np.concatenate(어떤것을 서로 붙일지, 행으로 붙일지 열로 붙일지)\n",
    "result = np.concatenate((arr, new_row.reshape(1, 3)), axis=0)\n",
    "print(result)"
   ]
  },
  {
   "cell_type": "markdown",
   "metadata": {},
   "source": [
    "# `delete()`\n",
    "> - axis를 기준으로 행과 열을 삭제\n",
    "> - 만약 axis를 지정하지 않으면 1차원 배열로 변환 후 삭제\n",
    "> - 원본을 변경하지 않고 처리가 된 새 배열을 return"
   ]
  },
  {
   "cell_type": "markdown",
   "metadata": {},
   "source": [
    "## axis를 지정하지 않으면, 1차원 배열로 자동변경된 후 인덱스 삭제"
   ]
  },
  {
   "cell_type": "code",
   "execution_count": 17,
   "metadata": {},
   "outputs": [
    {
     "name": "stdout",
     "output_type": "stream",
     "text": [
      "[[5 8 9 5]\n",
      " [0 0 1 7]\n",
      " [6 9 2 4]]\n",
      "[5 9 5 0 0 1 7 6 9 2 4]\n"
     ]
    }
   ],
   "source": [
    "import numpy as np\n",
    "\n",
    "np.random.seed(1)\n",
    "\n",
    "arr = np.random.randint(0, 10, (3, 4))\n",
    "print(arr)\n",
    "\n",
    "result = np.delete(arr, 1) # axis가 설정되지 않았기 때문에\n",
    "                           # 1차원 배열로 자동 변경된 후 인덱스를 삭제\n",
    "print(result)\n",
    "# [5 8 9 5 0 0 1 7 6 9 2 4]\n",
    "# [5 9 5 0 0 1 7 6 9 2 4]"
   ]
  },
  {
   "cell_type": "markdown",
   "metadata": {},
   "source": [
    "## `axis=0`=> 행 번호, `axis=1` => 열 번호 삭제"
   ]
  },
  {
   "cell_type": "code",
   "execution_count": 19,
   "metadata": {},
   "outputs": [
    {
     "name": "stdout",
     "output_type": "stream",
     "text": [
      "[[5 8 9 5]\n",
      " [0 0 1 7]\n",
      " [6 9 2 4]]\n",
      "[[5 8 9 5]\n",
      " [6 9 2 4]]\n",
      "[[5 9 5]\n",
      " [0 1 7]\n",
      " [6 2 4]]\n"
     ]
    }
   ],
   "source": [
    "np.random.seed(1)\n",
    "\n",
    "arr = np.random.randint(0, 10, (3, 4))\n",
    "print(arr)\n",
    "# [[5 8 9 5]\n",
    "#  [0 0 1 7]\n",
    "#  [6 9 2 4]]\n",
    "\n",
    "result = np.delete(arr, 1, axis=0) # 행번호 1번 삭제           \n",
    "print(result)\n",
    "# [[5 8 9 5]\n",
    "#  [6 9 2 4]]\n",
    "\n",
    "result = np.delete(arr, 1, axis=1) # 열번호 1번 삭제           \n",
    "print(result)\n",
    "# [[5 9 5]\n",
    "#  [0 1 7]\n",
    "#  [6 2 4]]"
   ]
  }
 ],
 "metadata": {
  "kernelspec": {
   "display_name": "Python [conda env:data_env] *",
   "language": "python",
   "name": "conda-env-data_env-py"
  },
  "language_info": {
   "codemirror_mode": {
    "name": "ipython",
    "version": 3
   },
   "file_extension": ".py",
   "mimetype": "text/x-python",
   "name": "python",
   "nbconvert_exporter": "python",
   "pygments_lexer": "ipython3",
   "version": "3.7.7"
  }
 },
 "nbformat": 4,
 "nbformat_minor": 4
}
