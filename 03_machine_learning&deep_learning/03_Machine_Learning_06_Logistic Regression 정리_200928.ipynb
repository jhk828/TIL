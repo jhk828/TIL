{
 "cells": [
  {
   "cell_type": "markdown",
   "metadata": {},
   "source": [
    "### Logistic Regression을 python, tensorflow, sklearn으로 각각 구현\n",
    "logistic curve\n",
    ">로지스틱 곡선(曲線): 지수 함수라고도 하며, 갖가지 형태의 성장 모델에 쓰이는 S자형 곡선."
   ]
  },
  {
   "cell_type": "code",
   "execution_count": 11,
   "metadata": {},
   "outputs": [],
   "source": [
    "# %reset #\n",
    "\n",
    "# Logistic Regression을 python, tensorflow, sklearn으로 각각 구현\n",
    "# 독립변수 1개\n",
    "\n",
    "import numpy as np\n",
    "import tensorflow as tf\n",
    "from sklearn import linear_model\n",
    "\n",
    "####\n",
    "# 수치미분함수를 들고와서 사용한다.\n",
    "# 다변수 수치미분코드\n",
    "def numerical_derivative(f, x):\n",
    "    # f: 미분하려고 하는 다변수 함수\n",
    "    # x : 모든 변수를 포함하고 있어야 한다. ndarray (차원 상관 없이)\n",
    "    \n",
    "    delta_x = 1e-4\n",
    "    derivative_x = np.zeros_like(x) # 미분한 결과를 저장하는 ndarray\n",
    "    \n",
    "    # iterator를 이용해서 입력변수 x에 대해 편미분을 수행\n",
    "    it = np.nditer(x, flags=['multi_index'])\n",
    "    \n",
    "    while not it.finished:\n",
    "        idx = it.multi_index # iterator의 현재 index를 추출\n",
    "        \n",
    "        tmp = x[idx]           # 현재 idx의 값을 잠시 보존. delta_x를 이용한 값으로\n",
    "                               # ndarray를 수정한 후 함수값을 계산해야 하기 때문\n",
    "                               # 함수값을 계산한 후 원상복구해야 다음 변수에 대한 편미분을\n",
    "                               # 정상적으로 수행할 수 있다.\n",
    "        x[idx] = tmp + delta_x\n",
    "        fx_plus_delta = f(x)    # f(x + delta_x)\n",
    "        \n",
    "        x[idx] = tmp - delta_x#\n",
    "        fx_minus_delta = f(x)   # f(x - delta_x)\n",
    "    \n",
    "        derivative_x[idx] = (fx_plus_delta - fx_minus_delta) / (2 * delta_x)\n",
    "        \n",
    "        x[idx] = tmp # 데이터 원상 복구\n",
    "        \n",
    "        it.iternext()\n",
    "    \n",
    "    return  derivative_x\n",
    "\n",
    "############\n",
    "\n",
    "# 1. Raw Data Loading + Data Preprocessing\n",
    "\n",
    "# 2. Training Data SEt\n",
    "# 지도학습을 하고 있기 때문에 독립변수와 종속변수 (label)로 구분해서 데이터를 준비\n",
    "# 어떤 경우에는 이 두개를 아예 분리해서 제공하는 경우도 있다\n",
    "x_data = np.arange(2,21,2).reshape(-1,1)\n",
    "t_data = np.array([0,0,0,0,0,0,1,1,1,1]).reshape(-1,1)"
   ]
  },
  {
   "cell_type": "markdown",
   "metadata": {},
   "source": [
    "### 1. python 구현"
   ]
  },
  {
   "cell_type": "code",
   "execution_count": 5,
   "metadata": {},
   "outputs": [
    {
     "name": "stdout",
     "output_type": "stream",
     "text": [
      "########### python 결과값 ##############\n",
      "공부시간 : [[13]], 결과: (1, array([[0.58167112]]))\n"
     ]
    }
   ],
   "source": [
    "# 3. Weight & bias = > Wx + b\n",
    "W = np.random.rand(1,1)\n",
    "b = np.random.rand(1)  # shape -> (1, ) => b.shape[0]로 접근\n",
    "# 상수 f라서 브로그캐스팅 일어나서 Scalar와 연산 가능\n",
    "\n",
    "# 위에서 정의한 W와 b값 구하여, 최종 목적인 model 완성하기\n",
    "\n",
    "# 4. loss function(손실함수, cost function , 비용함수)\n",
    "# 입력으로 들어온 x_data와 W, b를 이용해서 예측값 계산, t_data 정답과 비교\n",
    "def loss_func(input_obj):\n",
    "    # input_obj : W와 b를 같이 포함하고 있는 ndarray => [W1 W2 W3 b]\n",
    "    num_of_bias = b.shape[0]                                       # num_of_bias : 1\n",
    "    \n",
    "    input_W = input_obj[:-1*num_of_bias].reshape(-1, num_of_bias) # 행렬 연산을 하기 위한 W를 생성\n",
    "    input_b = input_obj[-1*num_of_bias:]                          # bias\n",
    "    \n",
    "    # 모델의 예측값 linear regression modeol((Wx + b))  => sigmoid  적용\n",
    "    z = np.dot(x_data, input_W) + input_b\n",
    "    y = 1 / (1 + np.exp(-1 * z)) # sigmoid\n",
    "    \n",
    "    delta = 1e-7\n",
    "    # 굉장히 작은 값을 이용해서 프로그램이 로그 연산 시 무한대로 발산하는 것을 방지\n",
    "    \n",
    "    # cross entropy\n",
    "    return -np.sum(t_data*np.log(y+delta) + ((1-t_data)*np.log(1-y+delta)))\n",
    "\n",
    "# 5. learning rate\n",
    "learning_rate = 1e-4\n",
    "\n",
    "# 6. 학습\n",
    "for step in range(30000):\n",
    "    \n",
    "    input_param = np.concatenate((W.ravel(), b.ravel()), axis=0) # [W b] [W1 W2 W3 b]\n",
    "    derivative_result = learning_rate * numerical_derivative(loss_func, input_param)\n",
    "    \n",
    "    num_of_bias = b.shape[0]\n",
    "    \n",
    "    W = W - derivative_result[:-1*num_of_bias].reshape(-1, num_of_bias) # [[W1 W2 W3]]\n",
    "    b = b - derivative_result[-1*num_of_bias:]\n",
    "    \n",
    "# 6. predict => W, b를 다 구해서, Logistic Regression Model을 완성\n",
    "def logistic_predict(x): # 공부한 시간을 입력\n",
    "    z = np.dot(x, W) + b\n",
    "    y = 1 / ( 1 + np.exp(-1*z))\n",
    "    \n",
    "    if y < 0.5:\n",
    "        result = 0\n",
    "    else:\n",
    "        result = 1\n",
    "        \n",
    "    return result, y\n",
    "\n",
    "study_hour = np.array([[13]])\n",
    "result = logistic_predict(study_hour)\n",
    "print('########### python 결과값 ##############')\n",
    "print('공부시간 : {}, 결과: {}'.format(study_hour, result))"
   ]
  },
  {
   "cell_type": "markdown",
   "metadata": {},
   "source": [
    "### 2. sklearn 구현"
   ]
  },
  {
   "cell_type": "code",
   "execution_count": 25,
   "metadata": {},
   "outputs": [
    {
     "name": "stdout",
     "output_type": "stream",
     "text": [
      "########### python 결과값 ##############\n",
      "공부시간 : [[13]], 결과: [0], [[0.50009391 0.49990609]]\n"
     ]
    }
   ],
   "source": [
    "# Logistic Regression Model 생성\n",
    "model = linear_model.LogisticRegression()\n",
    "\n",
    "# Training data set을 이용해서 학습\n",
    "model.fit(x_data, t_data.ravel())\n",
    "\n",
    "study_hour = np.array([[13]])\n",
    "predict_val = model.predict(study_hour)\n",
    "predict_proba = model.predict_proba(study_hour)\n",
    "\n",
    "print('########### sklearn 결과값 ##############')\n",
    "print('공부시간 : {}, 결과: {}, {}'.format(study_hour, predict_val, predict_proba))"
   ]
  },
  {
   "cell_type": "markdown",
   "metadata": {},
   "source": [
    "### 3. tensorflow"
   ]
  },
  {
   "cell_type": "code",
   "execution_count": 30,
   "metadata": {},
   "outputs": [
    {
     "name": "stdout",
     "output_type": "stream",
     "text": [
      "########### tensorflow 결과값 ##############\n",
      "공부시간 : [13], 결과: [[0.57699466]]\n"
     ]
    }
   ],
   "source": [
    "# placeholder\n",
    "X = tf.placeholder(dtype=tf.float32) # 독립변수가 1개인 경우 shape 명시 x\n",
    "T = tf.placeholder(dtype=tf.float32) \n",
    "\n",
    "# Weight & bias\n",
    "W = tf.Variable(tf.random.normal([1,1]), name='weight')\n",
    "b = tf.Variable(tf.random.normal([1]), name='bias')\n",
    "\n",
    "# Hypothesis\n",
    "logit = W * X + b # matrix 곱 연산 하지 않나요\n",
    "H = tf.sigmoid(logit)\n",
    "\n",
    "# loss function\n",
    "loss = tf.reduce_mean(tf.nn.sigmoid_cross_entropy_with_logits(logits=logit, labels=T))\n",
    "\n",
    "# train\n",
    "train = tf.train.GradientDescentOptimizer(learning_rate = 1e-3).minimize(loss)\n",
    "\n",
    "# session & 초기화\n",
    "sess = tf.Session()\n",
    "sess.run(tf.global_variables_initializer())\n",
    "\n",
    "# 학습\n",
    "for step in range(30000):\n",
    "    sess.run(train, feed_dict={X: x_data, T: t_data})\n",
    "\n",
    "study_hour = np.array([13])\n",
    "result = sess.run(H, feed_dict={X: study_hour})\n",
    "\n",
    "print('########### tensorflow 결과값 ##############')\n",
    "print('공부시간 : {}, 결과: {}'.format(study_hour, result))"
   ]
  },
  {
   "cell_type": "markdown",
   "metadata": {},
   "source": [
    "### Multi Variable Logistic Regression\n",
    "- 학습하는 데이터는 GRE (Graduate Record Examination)\n",
    "- GPA (Grade Point Average) 성적\n",
    "- Rank (University Rating)에 대한\n",
    "- 대학원 합격/ 불합격 정보\n",
    "\n",
    "- 내 성적 \\[600. 3.8. 1\\]의 결과\n",
    "- 첫번째 구현은 sklearn으로"
   ]
  },
  {
   "cell_type": "code",
   "execution_count": 7,
   "metadata": {},
   "outputs": [
    {
     "name": "stdout",
     "output_type": "stream",
     "text": [
      "Once deleted, variables cannot be recovered. Proceed (y/[n])? y\n"
     ]
    }
   ],
   "source": [
    "%reset"
   ]
  },
  {
   "cell_type": "code",
   "execution_count": 12,
   "metadata": {
    "scrolled": true
   },
   "outputs": [
    {
     "name": "stdout",
     "output_type": "stream",
     "text": [
      "(400, 4)\n",
      "(382, 4)\n"
     ]
    },
    {
     "data": {
      "image/png": "[encoded data removed]",
      "text/plain": [
       "<Figure size 432x288 with 4 Axes>"
      ]
     },
     "metadata": {
      "needs_background": "light"
     },
     "output_type": "display_data"
    }
   ],
   "source": [
    "import numpy as np\n",
    "import pandas as pd\n",
    "import tensorflow as tf\n",
    "from sklearn import linear_model\n",
    "from scipy import stats\n",
    "from sklearn.preprocessing import MinMaxScaler\n",
    "import matplotlib.pyplot as plt\n",
    "\n",
    "# 1. Raw Data Loading\n",
    "df = pd.read_csv('./data/admission.csv')\n",
    "\n",
    "# 2. 결측치 확인\n",
    "df.isnull().sum()\n",
    "# 결측치는 없다.\n",
    "\n",
    "# 3. 이상치를 확인해서 있으면 제거\n",
    "# fig = plt.figure()\n",
    "# fig_admin = fig.add_subplot(1, 4, 1)\n",
    "# fig_gre = fig.add_subplot(1, 4, 2)\n",
    "# fig_gpa = fig.add_subplot(1, 4, 3)\n",
    "# fig_rank = fig.add_subplot(1, 4, 4)\n",
    "\n",
    "# fig_admin.boxplot(df['admit'])\n",
    "# fig_gre.boxplot(df['gre'])\n",
    "# fig_gpa.boxplot(df['gpa'])\n",
    "# fig_rank.boxplot(df['rank'])\n",
    "\n",
    "# fig.tight_layout()\n",
    "# plt.show()\n",
    "\n",
    "print(df.shape)\n",
    "zscore_threshold = 2.0\n",
    "\n",
    "for col in df.columns:\n",
    "    outliers = df[col][np.abs(stats.zscore(df[col])) > zscore_threshold]\n",
    "    df = df.loc[~df[col].isin(outliers)]\n",
    "    \n",
    "print(df.shape)\n",
    "\n",
    "# 이상치를 확인해서 있으면 제거\n",
    "fig = plt.figure()\n",
    "fig_admin = fig.add_subplot(1, 4, 1)\n",
    "fig_gre = fig.add_subplot(1, 4, 2)\n",
    "fig_gpa = fig.add_subplot(1, 4, 3)\n",
    "fig_rank = fig.add_subplot(1, 4, 4)\n",
    "\n",
    "fig_admin.boxplot(df['admit'])\n",
    "fig_gre.boxplot(df['gre'])\n",
    "fig_gpa.boxplot(df['gpa'])\n",
    "fig_rank.boxplot(df['rank'])\n",
    "\n",
    "fig.tight_layout()\n",
    "plt.show() # 이상치 제거 됨\n",
    "\n",
    "# 4. Training Data Set\n",
    "# admin 빼고 세개를 training data로 쓴다, inplace=False -> 원본 삭제x\n",
    "# values : dataframe의 값만 numpy화\n",
    "x_data= df.drop('admit', axis=1, inplace=False).values\n",
    "# df['amin']: Series, values: vector\n",
    "# reshape(-1, 1): 2차원 matrix화 \n",
    "t_data = df['admit'].values.reshape(-1, 1)\n",
    "\n",
    "# 5. 정규화\n",
    "scaler_x = MinMaxScaler()\n",
    "scaler_x.fit(x_data)\n",
    "norm_x_data = scaler_x.transform(x_data) # for python, tensorflow"
   ]
  },
  {
   "cell_type": "markdown",
   "metadata": {},
   "source": [
    "### 1. sklearn을 이용한 구현"
   ]
  },
  {
   "cell_type": "code",
   "execution_count": 13,
   "metadata": {},
   "outputs": [
    {
     "name": "stdout",
     "output_type": "stream",
     "text": [
      "########### sklearn 결과값 ##############\n",
      "나의 지원정보 : [[600.    3.8   1. ]], 결과: [1], [[0.43740782 0.56259218]]\n"
     ]
    }
   ],
   "source": [
    "# sklearn을 이용한 구현\n",
    "model = linear_model.LogisticRegression()\n",
    "model.fit(x_data, t_data.ravel())\n",
    "\n",
    "my_score = np.array([[600, 3.8, 1]])\n",
    "predict_val = model.predict(my_score) # 0 or 1\n",
    "predict_proba = model.predict_proba(my_score) # (불합격할 확률, 합격할 확률)\n",
    "\n",
    "print('########### sklearn 결과값 ##############')\n",
    "print('나의 지원정보 : {}, 결과: {}, {}'.format(my_score, predict_val, predict_proba))"
   ]
  },
  {
   "cell_type": "markdown",
   "metadata": {},
   "source": [
    "### 2. tensorflow을 이용한 구현"
   ]
  },
  {
   "cell_type": "code",
   "execution_count": 10,
   "metadata": {},
   "outputs": [
    {
     "name": "stdout",
     "output_type": "stream",
     "text": [
      "WARNING:tensorflow:From C:\\Users\\j828h\\anaconda3\\envs\\data_env\\lib\\site-packages\\tensorflow_core\\python\\ops\\nn_impl.py:183: where (from tensorflow.python.ops.array_ops) is deprecated and will be removed in a future version.\n",
      "Instructions for updating:\n",
      "Use tf.where in 2.0, which has the same broadcast rule as np.where\n",
      "W : [[-1.1890466 ]\n",
      " [ 1.0526935 ]\n",
      " [ 0.20298532]], b : [-0.9008117], loss: 0.6500018239021301\n",
      "W : [[-1.1773398 ]\n",
      " [ 1.0588218 ]\n",
      " [ 0.19310416]], b : [-0.8966231], loss: 0.6490359306335449\n",
      "W : [[-1.1659471 ]\n",
      " [ 1.0645823 ]\n",
      " [ 0.18302959]], b : [-0.892958], loss: 0.6481098532676697\n",
      "W : [[-1.1548606 ]\n",
      " [ 1.0700147 ]\n",
      " [ 0.17279172]], b : [-0.8897562], loss: 0.6472181677818298\n",
      "W : [[-1.1440902 ]\n",
      " [ 1.0751681 ]\n",
      " [ 0.16241725]], b : [-0.88696694], loss: 0.6463566422462463\n",
      "W : [[-1.1335225 ]\n",
      " [ 1.0801057 ]\n",
      " [ 0.15192787]], b : [-0.8845548], loss: 0.6455176472663879\n",
      "W : [[-1.1231513 ]\n",
      " [ 1.0847548 ]\n",
      " [ 0.14135002]], b : [-0.8824785], loss: 0.6447002291679382\n",
      "W : [[-1.1130643 ]\n",
      " [ 1.0892022 ]\n",
      " [ 0.13069385]], b : [-0.8806864], loss: 0.6439041495323181\n",
      "W : [[-1.1030507 ]\n",
      " [ 1.0934937 ]\n",
      " [ 0.11998824]], b : [-0.87915826], loss: 0.6431209444999695\n",
      "W : [[-1.0933387 ]\n",
      " [ 1.0975642 ]\n",
      " [ 0.10923773]], b : [-0.87785417], loss: 0.6423577666282654\n",
      "########### tensorflow 결과값 ##############\n",
      "나의 지원정보 : [[600.    3.8   1. ]], 결과: [[0.37062365]]\n"
     ]
    }
   ],
   "source": [
    "# tensorflow을 이용한 구현\n",
    "\n",
    "# plceholder\n",
    "# 행 미정, 열 3열 (독립변수 3개)\n",
    "X = tf.placeholder(shape=[None, 3], dtype=tf.float32) # 독립변수의 데이터를 받기 위한 plcaholder\n",
    "T = tf.placeholder(shape=[None, 1], dtype=tf.float32) # 종속변수 (label)의 데이터를 받기 위한 placeholder\n",
    "\n",
    "# Weight & bias\n",
    "W = tf.Variable(tf.random.normal([3,1]), name='weight')\n",
    "b = tf.Variable(tf.random.normal([1]), name='bias')\n",
    "\n",
    "# hypothesis\n",
    "logit = tf.matmul(X, W) + b\n",
    "H = tf.sigmoid(logit)\n",
    "\n",
    "# loss function\n",
    "loss = tf.reduce_mean(tf.nn.sigmoid_cross_entropy_with_logits(logits=logit, labels=T))\n",
    "\n",
    "# train\n",
    "train = tf.train.GradientDescentOptimizer(learning_rate = 1e-4).minimize(loss)\n",
    "\n",
    "# session & 초기화\n",
    "sess = tf.Session()\n",
    "sess.run(tf.global_variables_initializer())\n",
    "\n",
    "# 학습\n",
    "for step in range(30000):\n",
    "    _, W_val, b_val, loss_val = sess.run([train, W, b, loss],\n",
    "                                         feed_dict={X:norm_x_data, T:t_data})\n",
    "    \n",
    "    if step % 3000 == 0:\n",
    "        print('W : {}, b : {}, loss: {}'.format(W_val, b_val, loss_val))\n",
    "\n",
    "my_score = np.array([[600, 3.8, 1]])\n",
    "scaled_my_score = scaler_x.transform(my_score)\n",
    "result = sess.run(H, feed_dict={X:scaled_my_score})\n",
    "\n",
    "print('########### tensorflow 결과값 ##############')\n",
    "print('나의 지원정보 : {}, 결과: {}'.format(my_score, result))"
   ]
  },
  {
   "cell_type": "markdown",
   "metadata": {},
   "source": [
    "### 정확도 측정"
   ]
  },
  {
   "cell_type": "code",
   "execution_count": 26,
   "metadata": {},
   "outputs": [
    {
     "name": "stdout",
     "output_type": "stream",
     "text": [
      "admit    0\n",
      "gre      0\n",
      "gpa      0\n",
      "rank     0\n",
      "dtype: int64\n",
      "W: [[ 0.93438536]\n",
      " [ 0.44834182]\n",
      " [-0.37441477]], b: [-1.961393], loss: 0.6361476182937622\n",
      "W: [[ 0.95522255]\n",
      " [ 0.47153884]\n",
      " [-0.36583152]], b: [-1.9277273], loss: 0.6288771033287048\n",
      "W: [[ 0.97424644]\n",
      " [ 0.49282712]\n",
      " [-0.3586862 ]], b: [-1.8970697], loss: 0.6228521466255188\n",
      "W: [[ 0.99157554]\n",
      " [ 0.5123314 ]\n",
      " [-0.3528846 ]], b: [-1.8692309], loss: 0.6178829073905945\n",
      "W: [[ 1.0073327 ]\n",
      " [ 0.53018177]\n",
      " [-0.34832877]], b: [-1.8440022], loss: 0.6137986183166504\n",
      "W: [[ 1.021644 ]\n",
      " [ 0.5465024]\n",
      " [-0.3449212]], b: [-1.8211789], loss: 0.6104500889778137\n",
      "W: [[ 1.034637  ]\n",
      " [ 0.56142265]\n",
      " [-0.34256384]], b: [-1.8005706], loss: 0.607708752155304\n",
      "W: [[ 1.0464036 ]\n",
      " [ 0.5750613 ]\n",
      " [-0.34116307]], b: [-1.7819772], loss: 0.6054659485816956\n",
      "W: [[ 1.057076  ]\n",
      " [ 0.58753645]\n",
      " [-0.3406295 ]], b: [-1.7652164], loss: 0.6036287546157837\n",
      "W: [[ 1.0667409 ]\n",
      " [ 0.5989521 ]\n",
      " [-0.34087968]], b: [-1.7501303], loss: 0.6021220088005066\n",
      "####### tensorflow 결과값 #########\n",
      "내 지원정보 : [[600.    3.8   1. ]], 결과 : [[0.3473347]]\n"
     ]
    }
   ],
   "source": [
    "import numpy as np\n",
    "import pandas as pd\n",
    "import tensorflow as tf\n",
    "from scipy import stats\n",
    "from sklearn.preprocessing import MinMaxScaler\n",
    "\n",
    "# 1. Raw Data Loading\n",
    "df = pd.read_csv('./data/admission.csv')\n",
    "\n",
    "# 2. 결측치 확인\n",
    "print(df.isnull().sum()) # 결측치 없음\n",
    "\n",
    "# 3. 이상치 제거\n",
    "zscore_threshold = 2.0\n",
    "\n",
    "for col in df.columns:\n",
    "    outliers = df[col][np.abs(stats.zscore(df[col])) > zscore_threshold]\n",
    "    df = df.loc[~df[col].isin(outliers)]\n",
    "    \n",
    "# 4. Training Data Set\n",
    "x_data = df.drop('admit', axis=1, inplace=False).values\n",
    "t_data = df['admit'].values.reshape(-1, 1)\n",
    "\n",
    "# 5. hypothesis\n",
    "logit = tf.matmul(X, W) + b\n",
    "H = tf.sigmoid(logit)\n",
    "\n",
    "# 6. loss function\n",
    "loss = tf.reduce_mean(tf.nn.sigmoid_cross_entropy_with_logits(logits=logit, labels=T))\n",
    "\n",
    "# 7. train node\n",
    "train = tf.train.GradientDescentOptimizer(learning_rate=1e-4).minimize(loss)\n",
    "\n",
    "# 8. session & 초기화\n",
    "sess = tf.Session()\n",
    "sess.run(tf.global_variables_initializer())\n",
    "\n",
    "# 9. 학습\n",
    "for step in range(30000):\n",
    "    _, W_val, b_val, loss_val = sess.run([train, W, b, loss],\n",
    "                                        feed_dict={X:norm_x_data, T:t_data})\n",
    "    if step % 3000 == 0:\n",
    "        print('W: {}, b: {}, loss: {}'.format(W_val, b_val, loss_val))\n",
    "        \n",
    "# 10. 정확도 (Accuracy) 측정\n",
    "predict = tf.cast(H >= 0.5, dtype=tf.float32) # True => 1.0, False -> 0\n",
    "correct = tf.equal(predict, T)\n",
    "accuracy = tf.reduce_mean(tf.cast(correct, dtype=tf.float32))\n",
    "\n",
    "# 11. prediction\n",
    "my_score = np.array([[600, 3.8, 1]])\n",
    "scaled_my_score = scaler_x.transform(my_score)\n",
    "\n",
    "result = sess.run(H, feed_dict={X:scaled_my_score})\n",
    "print('####### tensorflow 결과값 #########')\n",
    "print('내 지원정보 : {}, 결과 : {}'.format(my_score,result)) "
   ]
  },
  {
   "cell_type": "markdown",
   "metadata": {},
   "source": [
    "![image.img](https://img1.daumcdn.net/thumb/R1280x0/?scode=mtistory2&fname=https%3A%2F%2Fblog.kakaocdn.net%2Fdn%2FvTHbU%2FbtqJQHWomPI%2FaJAtsP4YfcgkJehkcJYoK0%2Fimg.png)"
   ]
  },
  {
   "cell_type": "code",
   "execution_count": null,
   "metadata": {},
   "outputs": [],
   "source": []
  }
 ],
 "metadata": {
  "kernelspec": {
   "display_name": "Python [conda env:data_env] *",
   "language": "python",
   "name": "conda-env-data_env-py"
  },
  "language_info": {
   "codemirror_mode": {
    "name": "ipython",
    "version": 3
   },
   "file_extension": ".py",
   "mimetype": "text/x-python",
   "name": "python",
   "nbconvert_exporter": "python",
   "pygments_lexer": "ipython3",
   "version": "3.7.7"
  }
 },
 "nbformat": 4,
 "nbformat_minor": 4
}
