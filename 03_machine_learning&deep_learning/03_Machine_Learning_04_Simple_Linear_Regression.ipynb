{
 "cells": [
  {
   "cell_type": "markdown",
   "metadata": {},
   "source": [
    "## Simple Linear Regression \n",
    "* 반대말 : Multiple Linear Regression \n",
    "\n",
    "### Data Preprocessing (데이터전처리)\n",
    "* 결측치 처리\n",
    "    * 삭제, 값을 변경, 예측해서 대체\n",
    "* 이상치 처리 (outlier)\n",
    "    * 이상치를 검출하고 변경하는 작업\n",
    "* 데이터 정규화 작업\n",
    "* 학습에 필요한 컬럼을 추출, 새로 생성"
   ]
  },
  {
   "cell_type": "code",
   "execution_count": 4,
   "metadata": {},
   "outputs": [
    {
     "name": "stdout",
     "output_type": "stream",
     "text": [
      "W : [[0.82153248]], b: [0.82356274], loss : 1296.8897622004954\n",
      "W : [[0.55961761]], b: [0.69214109], loss : 868.8681587919899\n",
      "W : [[0.56124241]], b: [0.56375598], loss : 868.3186571465408\n",
      "W : [[0.56286579]], b: [0.43548248], loss : 867.7701104512496\n",
      "W : [[0.56448777]], b: [0.30732049], loss : 867.2225170465558\n",
      "W : [[0.56610834]], b: [0.1792699], loss : 866.6758752757877\n",
      "W : [[0.56772749]], b: [0.05133064], loss : 866.1301834851483\n",
      "W : [[0.56934524]], b: [-0.07649741], loss : 865.5854400237235\n",
      "W : [[0.57096159]], b: [-0.20421434], loss : 865.0416432434533\n",
      "W : [[0.57257652]], b: [-0.33182024], loss : 864.4987914991527\n"
     ]
    },
    {
     "data": {
      "image/png": "[encoded data removed]",
      "text/plain": [
       "<Figure size 432x288 with 1 Axes>"
      ]
     },
     "metadata": {
      "needs_background": "light"
     },
     "output_type": "display_data"
    },
    {
     "name": "stdout",
     "output_type": "stream",
     "text": [
      "[[35.1404775]]\n"
     ]
    }
   ],
   "source": [
    "# Simple Linear Regression \n",
    "# 온도에 따른 오존량 예측\n",
    "import numpy as np\n",
    "import pandas as pd\n",
    "import matplotlib.pyplot as plt\n",
    "# from machine_learning_library import numerical_derivative\n",
    "from my_library.machine_learning_library import numerical_derivative\n",
    "\n",
    "# 1. Raw Data Loading\n",
    "df = pd.read_csv('./data/ozone.csv')\n",
    "\n",
    "# 2. Data Preprocessing (데이터전처리)\n",
    "#    - 결측치 처리\n",
    "#      - 삭제, 값을 변경(평균, 최대, 최소), 값을 예측해서 값을 대체. \n",
    "#    - 이상치 처리(outlier)\n",
    "#      - 이상치를 검출하고, 변경하는 작업\n",
    "#    - 데이터 정규화 작업\n",
    "#    - 학습에 필요한 컬럼을 추출, 새로 생성.\n",
    "\n",
    "# 필요한 column (Temp, Ozone만 추출)\n",
    "training_data = df[['Temp', 'Ozone']] \n",
    "# print(training_data.shape) # (153, 2)\n",
    "\n",
    "# 결치값 제거 -> 리스크가 큰 방법이지만 우선 이렇게 진행한다.\n",
    "training_data = training_data.dropna(how='any')\n",
    "# print(training_data.shape) # (116, 2)\n",
    "\n",
    "# 3. Training Data Set\n",
    "# 1차원 vector -> 2차원 matrix (column 하나)\n",
    "x_data = training_data['Temp'].values.reshape(-1, 1)  \n",
    "t_data = training_data['Ozone'].values.reshape(-1, 1)\n",
    "\n",
    "# 4. Simple Linear Regression\n",
    "#   y = Wx + b\n",
    "# 구해야 하는 W, b를 정의\n",
    "W = np.random.rand(1, 1)\n",
    "b = np.random.rand(1)\n",
    "\n",
    "# 5. loss function 정의\n",
    "def loss_func(x, t):\n",
    "    y = np.dot(x, W) + b\n",
    "    return np.mean(np.power((t-y), 2)) # 최소제곱법\n",
    "\n",
    "# 6. 학습 종료 후 예측값을 알아오는 함수\n",
    "def predict(x):\n",
    "    return np.dot(x, W) + b\n",
    "\n",
    "# 7. 프로그램에서 필요한 변수들을 정의\n",
    "learning_rate = 1e-5  # 추후 sklearn으로 예측한 값과 비교하며 조절\n",
    "f = lambda x: loss_func(x_data, t_data)\n",
    "\n",
    "# 8. 학습 진행\n",
    "for step in range(30000):\n",
    "    W -= learning_rate * numerical_derivative(f, W)\n",
    "    b -= learning_rate * numerical_derivative(f, b)\n",
    "    \n",
    "    if step % 3000 == 0:\n",
    "        # loss값은 작을 수록 좋다\n",
    "        print('W : {}, b: {}, loss : {}'.format(W, b, loss_func(x_data, t_data)))\n",
    "        \n",
    "# 9. 그래프로 확인\n",
    "plt.scatter(x_data, t_data)\n",
    "plt.plot(x_data, np.dot(x_data, W) + b, color='r')\n",
    "plt.show()\n",
    "\n",
    "# 10. 예측하기 \n",
    "result = predict(62)\n",
    "print(result) # [[35.1404775]]"
   ]
  },
  {
   "cell_type": "markdown",
   "metadata": {},
   "source": [
    "## sklearn\n",
    "- sklearn을 이용해서 같은 데이터로 학습을 시키고 예측을 해 보자\n",
    "- sklean은 데이터분석, 머신러닝 라이브러리중 하나로, 굉장히 유명하고 효율이 좋은 라이브러리다."
   ]
  },
  {
   "cell_type": "code",
   "execution_count": 29,
   "metadata": {},
   "outputs": [
    {
     "name": "stdout",
     "output_type": "stream",
     "text": [
      "W : [[2.4287033]], b : [-146.99549097]\n"
     ]
    },
    {
     "data": {
      "image/png": "[encoded data removed]",
      "text/plain": [
       "<Figure size 432x288 with 1 Axes>"
      ]
     },
     "metadata": {
      "needs_background": "light"
     },
     "output_type": "display_data"
    },
    {
     "name": "stdout",
     "output_type": "stream",
     "text": [
      "[[3.58411393]]\n"
     ]
    }
   ],
   "source": [
    "import numpy as np\n",
    "import pandas as pd\n",
    "import matplotlib.pyplot as plt\n",
    "from sklearn import linear_model\n",
    "\n",
    "# 1. Raw Data Loading\n",
    "df = pd.read_csv('./data/ozone.csv')\n",
    "\n",
    "# 2. Data Preprocessing (데이터전처리)\n",
    "# 필요한 column (Temp, Ozone만 추출)\n",
    "# 결치값 제거\n",
    "training_data = df[['Temp', 'Ozone']] \n",
    "# print(training_data.shape) # (153, 2)\n",
    "\n",
    "# 결치값 제거 -> 리스크가 큰 방법\n",
    "training_data = training_data.dropna(how='any')\n",
    "# print(training_data.shape) # (116, 2)\n",
    "\n",
    "# 3. Training Data Set\n",
    "x_data = training_data['Temp'].values.reshape(-1, 1)  # 1차원 vector -> 2차원 matrix (column 하나)\n",
    "t_data = training_data['Ozone'].values.reshape(-1, 1)\n",
    "\n",
    "# 4. sklearn을 이용해서 linear regression model 객체를 생성\n",
    "# 아직 완성되지 않은, 학습되지 않는 모델 생성\n",
    "model = linear_model.LinearRegression()\n",
    "\n",
    "# 5. Training Data Set을 이용해서 학습 진행\n",
    "model.fit(x_data, t_data)\n",
    "\n",
    "# 6. W, b 값 알아내기\n",
    "print('W : {}, b : {}'.format(model.coef_, model.intercept_))\n",
    "\n",
    "# 7. 그래프로 확인하기\n",
    "plt.scatter(x_data, t_data)\n",
    "plt.plot(x_data,np.dot(x_data,model.coef_) + model.intercept_, color='r')\n",
    "plt.show()\n",
    "\n",
    "# 8. 예측하기\n",
    "predict_val = model.predict([[62]]) # 온도를 이용해서 오존\n",
    "print(predict_val) #  # [[3.58411393]]"
   ]
  },
  {
   "cell_type": "markdown",
   "metadata": {},
   "source": [
    "- 이런 문제가 발생한 이유는 데이터 전처리가 잘 안되서 그렇다.\n",
    "- 머신러닝에서 학습이 잘 되기 위해서는 데이터의 전처리가 필수다.\n",
    "\n",
    "- 결측치 처리는, 여기서는 일단 삭제 처리로 한다.\n",
    "\n",
    "### 결측치 처리\n",
    "* 1) 이상치처리 (Outlier)\n",
    "* 2) 데이터의 정규화\n",
    "\n",
    "### 이상치처리 (Outlier)\n",
    ">-   이상치 (Outlier)는 속성의 값이 일반적인 값보다 편차가 큰 값을 의미.\n",
    ">-   즉, 데이터 전체 패턴에서 동떨어져 있는 관측치를 지칭\n",
    ">-   평균뿐만 아니라 분산에도 영향을 미치기 때문에, 데이터 전체의 안정성을 저해하는 요소.\n",
    ">-   따라서, 이상치는 반드시 처리하고 검출하고 처리하는데 상당히 많은 시간이 소요되는게 일반적\n",
    ">-   독립변수 (온도)에 있는 이상치 -> **지대점**\n",
    ">-   종속변수 (오존량)에 있는 이상치 -> **outlier**\n",
    "\n",
    "\n",
    "### **1) Tukey Outlier**\n",
    "> 4분위값을 이용하는 이상치 검출 방식   \n",
    "### **2) Z-Score**\n",
    "> 분산, 표준편차를 이용하는 이상치 검출 방법 - 통계기반"
   ]
  },
  {
   "attachments": {},
   "cell_type": "markdown",
   "metadata": {},
   "source": [
    "- Tukey outlier를 이용하여 처리한다.\n",
    "- 우선, boxplot이라는걸 이용해서 4분위를 기준으로 한 그래프를 확인한다.\n",
    "\n",
    "### **1) Tukey Outlier**\n",
    ">- 4분위값을 이용하는 이상치 검출 방식   \n",
    ">- Boxplot을 사용하여 이상치를 분류하는 기준은 IQR value를 사용\n",
    "- IQR value = 3사분위 -  1사분위값\n",
    "- 어떤 값을 이상치로 판별하는가\n",
    "\t- *1사분위수 - 1.5 * IQR value보다 작은 값*을 이상치로 판별\n",
    "\t- *3사분위수 + 1.5 * IQR value보다 큰 값*을 이상치로 판별\n",
    "\n",
    " <img src=\"https://img1.daumcdn.net/thumb/R1280x0/?scode=mtistory2&fname=https%3A%2F%2Fblog.kakaocdn.net%2Fdn%2FAL816%2FbtqJphj5rC8%2FvinhjO3pIyiJUHqHH1UK41%2Fimg.png\" width=\"70%\">\n"
   ]
  },
  {
   "cell_type": "markdown",
   "metadata": {},
   "source": [
    "### Boxplot과 사분위수 알아보기"
   ]
  },
  {
   "cell_type": "code",
   "execution_count": 34,
   "metadata": {
    "scrolled": true
   },
   "outputs": [
    {
     "data": {
      "image/png": "[encoded data removed]",
      "text/plain": [
       "<Figure size 432x288 with 1 Axes>"
      ]
     },
     "metadata": {
      "needs_background": "light"
     },
     "output_type": "display_data"
    }
   ],
   "source": [
    "# Boxplot을 사용하여 이상치를 분류하는 기준은 IQR value를 사용\n",
    "# IQR value = 3사분위 -  1사분위값\n",
    "# 어떤 값을 이상치로 판별하는가\n",
    "# 1사분위수 - 1.5 * IQR value 이 값보다 작은 값을 이상치로 판별\n",
    "# 3사분위수 + 1.5 * IQR value 이 값보다 큰 값을 이상치로 판별\n",
    "\n",
    "import numpy as np\n",
    "import matplotlib.pyplot as plt\n",
    "\n",
    "data = np.array([1, 2, 3, 4, 5, 6, 7, 8, 9, 10, 11, 12, 13, 14, 22.1])\n",
    "plt.boxplot(data)\n",
    "plt.show()"
   ]
  },
  {
   "cell_type": "markdown",
   "metadata": {},
   "source": [
    "### Tukey Outlier로 이상치 처리하기\n",
    "- numpy로 사분위수를 구하려면 `percentile()` 함수를 이용한다."
   ]
  },
  {
   "cell_type": "code",
   "execution_count": 56,
   "metadata": {},
   "outputs": [
    {
     "name": "stdout",
     "output_type": "stream",
     "text": [
      "8.473333333333333\n",
      "8.0\n",
      "4.5\n",
      "8.0\n",
      "11.5\n",
      "22.1\n",
      "upper_fense : 22.0\n",
      "lowerr_fense : -6.0\n",
      "[22.1]\n"
     ]
    },
    {
     "data": {
      "image/png": "[encoded data removed]",
      "text/plain": [
       "<Figure size 432x288 with 2 Axes>"
      ]
     },
     "metadata": {
      "needs_background": "light"
     },
     "output_type": "display_data"
    }
   ],
   "source": [
    "import numpy as np\n",
    "import matplotlib.pyplot as plt\n",
    "\n",
    "data = np.array([1, 2, 3, 4, 5, 6, 7, 8, 9, 10, 11, 12, 13, 14, 22.1])\n",
    "\n",
    "fig = plt.figure()               # 새로운 그림 (figure)을 생성\n",
    "fig_1 = fig.add_subplot(1, 2, 1)  # 1행 2열의 subplot의 위치가 1번 위치\n",
    "fig_2 = fig.add_subplot(1, 2, 2)  # 1행 2열의 subplot의 위치가 2번 위치\n",
    "\n",
    "fig_1.set_title('Original Data Boxplot')\n",
    "fig_1.boxplot(data)\n",
    "# plt.show()\n",
    "\n",
    "# numpy로 사분위수를 구하려면 percentile() 함수를 이용한다.\n",
    "print(np.mean(data))             # 평균 8.473333333333333\n",
    "print(np.median(data))           # 중위수 - 2사분위 8.0\n",
    "print(np.percentile(data, 25))   # 1사분위 4.5 - 네등분한 값의 첫번째\n",
    "print(np.percentile(data, 50))   # 2사분위 8.0 - 네등분한 값의 두번째\n",
    "print(np.percentile(data, 75))   # 3사분위 11.5 - 네등분한 값의 세번째\n",
    "print(np.percentile(data, 100))  # 4사분위 22.1 - 네등분한 값의 네번째\n",
    "\n",
    "\n",
    "# 이상치를 검출하려면 IQR value가 필요\n",
    "IQR_val = np.percentile(data, 75) - np.percentile(data, 25)\n",
    "\n",
    "upper_fense = np.percentile(data, 75) + 1.5 * IQR_val\n",
    "lower_fense = np.percentile(data, 25) - 1.5 * IQR_val\n",
    "\n",
    "print('upper_fense : {}'.format(upper_fense))\n",
    "print('lowerr_fense : {}'.format(lower_fense))\n",
    "# upper_fense : 22.0\n",
    "# lowerr_fense : -6.0\n",
    "\n",
    "# 데이터중에 이상치를 출력하고\n",
    "# 이상치를 제거한 데이터로 boxplot을 그린다.\n",
    "# boolean indexing을 이용한다.\n",
    "print(data[(data > upper_fense) | (data < lower_fense)])  # [22.1]\n",
    "\n",
    "# 이상치가 아닌 값들의 index\n",
    "# print(data[(data <= upper_fense) & (data >= lower_fense)])\n",
    "result_data = data[(data <= upper_fense) & (data >= lower_fense)]\n",
    "\n",
    "fig_2.set_title('Remove Outlier Boxplot')\n",
    "fig_2.boxplot(result_data)\n",
    "\n",
    "plt.show()"
   ]
  },
  {
   "attachments": {},
   "cell_type": "markdown",
   "metadata": {},
   "source": [
    "### 2) Z-Score\n",
    "<img src=\"https://img1.daumcdn.net/thumb/R1280x0/?scode=mtistory2&fname=https%3A%2F%2Fblog.kakaocdn.net%2Fdn%2FlKuc7%2FbtqJltZRLW7%2FAtoB8tMD5Qkee6ckgmbaT1%2Fimg.png\" width=\"70%\">"
   ]
  },
  {
   "cell_type": "code",
   "execution_count": 22,
   "metadata": {},
   "outputs": [
    {
     "name": "stdout",
     "output_type": "stream",
     "text": [
      "[-1.40160702 -1.21405925 -1.02651147 -0.8389637  -0.65141593 -0.46386816\n",
      " -0.27632038 -0.08877261  0.09877516  0.28632293  0.4738707   0.66141848\n",
      "  0.84896625  1.03651402  2.55565098]\n",
      "[22.1]\n",
      "[ 1.  2.  3.  4.  5.  6.  7.  8.  9. 10. 11. 12. 13. 14.]\n"
     ]
    }
   ],
   "source": [
    "from scipy import stats\n",
    "\n",
    "data = np.array([1, 2, 3, 4, 5, 6, 7, 8, 9, 10, 11, 12, 13, 14, 22.1])\n",
    "\n",
    "zscore_threshold = 1.8 # zscore outlier 임계값 (일반적으로 2)\n",
    "# stats.zscore(data)\n",
    "print(stats.zscore(data)) \n",
    "# 데이터를 정규분포화 시킨 후, 표준편차에서 각자의 점들이 어느 위치에 있는지 나타낸다.\n",
    "# [-1.40160702 -1.21405925 -1.02651147 -0.8389637  -0.65141593 -0.46386816\n",
    "#  -0.27632038 -0.08877261  0.09877516  0.28632293  0.4738707   0.66141848\n",
    "#   0.84896625  1.03651402  2.55565098]\n",
    "\n",
    "# 절대값이 1.8보다 큰 boolean mask로 indexing\n",
    "outliers = data[np.abs(stats.zscore(data)) > zscore_threshold]\n",
    "print(outliers) # [22.1]\n",
    "\n",
    "# invert -> outliers의 역을 구한다.\n",
    "print(data[np.isin(data, outliers, invert=True)] )\n",
    "# [ 1. 2. 3. 4. 5. 6. 7. 8. 9. 10. 11. 12. 13. 14] => 이상치 22.1 제거됨"
   ]
  }
 ],
 "metadata": {
  "kernelspec": {
   "display_name": "Python [conda env:data_env] *",
   "language": "python",
   "name": "conda-env-data_env-py"
  },
  "language_info": {
   "codemirror_mode": {
    "name": "ipython",
    "version": 3
   },
   "file_extension": ".py",
   "mimetype": "text/x-python",
   "name": "python",
   "nbconvert_exporter": "python",
   "pygments_lexer": "ipython3",
   "version": "3.7.7"
  }
 },
 "nbformat": 4,
 "nbformat_minor": 4
}
