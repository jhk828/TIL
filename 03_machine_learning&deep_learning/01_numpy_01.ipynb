{
 "cells": [
  {
   "cell_type": "markdown",
   "metadata": {},
   "source": [
    "# 01_numpy_01\n",
    "\n",
    "# 9월 4일 금요일\n",
    "\n",
    "## 칸 하나를 cell이라고 부른다.\n",
    "* a key: 현재 cell 위쪽에 새로운 cell을 생성한다.\n",
    "* b key : 현재 cell 아래쪽에 새로운 cell을 생성한다.\n",
    "* dd key : 현재 cell을 삭제\n",
    "* ctrl + enter : 현재 cell을 실행\n",
    "\n",
    "\n",
    "## Numpy\n",
    "> Numpy : Numperical Python\n",
    "> * 수치 계산에 최적화된 Python module\n",
    "> * vector, matrix 연산에 특화되어 있다.\n",
    "> * Pandas, Matplotlib의 기반이 되는 module\n",
    "> * machine learning, deep learning에서 많이 사용된다.\n",
    "\n",
    "## ndarray의 특징\n",
    "* Numpy는 ndarray라고 불리는 n-차원의 배열을 제공한다.\n",
    "* python의 list와 상당히 유사하다.\n",
    "* python의 list는 다른 데이터 타입을 한 list 안에 저장할 수 있다.\n",
    "* Numpy의 ndarray는 모두 같은 데이터 타입을 사용해야 한다.\n",
    "* Python의 list보다 메모리 효율이나 실행 속도면에서 우위를 차지한다.\n",
    "\n",
    "\n",
    "## Numpy module 설치하고 이용하기\n",
    "```python\n",
    "pip install numpy\n",
    "conda install numpy\n",
    "```"
   ]
  },
  {
   "cell_type": "markdown",
   "metadata": {},
   "source": [
    "# Python의 list를 가지고 ndarray 생성"
   ]
  },
  {
   "cell_type": "code",
   "execution_count": null,
   "metadata": {
    "pycharm": {
     "name": "#%%\n"
    }
   },
   "outputs": [],
   "source": [
    "import numpy as np\n",
    "\n",
    "## Python의 list부터 살펴보자\n",
    "# literal : 자료구조를 코드 상에서 표현하는 방법\n",
    "a = [1, 2, 3, 4, 5]    # python의 list\n",
    "print(a)               # [1, 2, 3, 4, 5] => list의 literal\n",
    "print(type(a))         # <class 'list'>\n",
    "\n",
    "\n",
    "## Numpy의 ndarry 만들기 - Python의 list를 가지고\n",
    "arr = np.array([1, 2, 3, 4, 5])\n",
    "print(arr)             # [1 2 3 4 5] => ndarray의 literal\n",
    "print(type(arr))       # <class 'numpy.ndarray'>\n",
    "print(arr.dtype)       # int32 (int: 정수, 32: 32bit) - ndarray는 같은 data type만 사용\n",
    "print(arr[0])          # 1\n",
    "print(type(arr[0]))    # <class 'numpy.int32'> => python의 <class 'int'>가 아니다!\n",
    "\n",
    "\n",
    "arr1 = np.array([100, 3.14, True, 'Hello!'])\n",
    "print(arr1)            # ['100' '3.14' 'True' 'Hello!'] - 같은 자료형으로 자동 변환"
   ]
  },
  {
   "cell_type": "markdown",
   "metadata": {},
   "source": [
    "## 다차원 ndarray 만들기"
   ]
  },
  {
   "cell_type": "code",
   "execution_count": null,
   "metadata": {
    "pycharm": {
     "name": "#%%\n"
    }
   },
   "outputs": [],
   "source": [
    "## 다차원 ndarray 만들기\n",
    "# python의 list는 중첩리스트만 존재한다.\n",
    "\n",
    "a = [[1, 2, 3],\n",
    "     [4, 5, 6]]\n",
    "arr = np.array(a)\n",
    "print(arr)          # [[1 2 3]\n",
    "                    #  [4 5 6]]\n",
    "print(arr[1, 1])    # 5"
   ]
  },
  {
   "cell_type": "code",
   "execution_count": null,
   "metadata": {
    "pycharm": {
     "name": "#%%\n"
    }
   },
   "outputs": [],
   "source": [
    "a = [[1, 2, 3],\n",
    "     [4, 5, 6]]\n",
    "\n",
    "arr = np.array(a, dtype=np.float64)\n",
    "print(arr)       # [[1. 2. 3.]\n",
    "                 # [4. 5. 6.]]"
   ]
  },
  {
   "cell_type": "markdown",
   "metadata": {},
   "source": [
    "## ndarray의 차원 관련 속성\n",
    "###  ```ndim```, ```shape```"
   ]
  },
  {
   "cell_type": "code",
   "execution_count": null,
   "metadata": {
    "pycharm": {
     "name": "#%%\n"
    }
   },
   "outputs": [],
   "source": [
    "# ndarray의 차원 관련 속성\n",
    "\n",
    "a = [1, 2, 3, 4]\n",
    "arr = np.array(a, dtype=np.float64)\n",
    "print(arr)          # [1. 2. 3. 4.]\n",
    "\n",
    "print(arr.ndim)     # ndim => 치원의 개수 : 1\n",
    "print(arr.shape)    # 차원의 개수와 각 차원의 요소를 tuple로 표현 - 1차원의 요소 4개\n",
    "                    # (4,)\n",
    "\n",
    "a = [[1, 2, 3],\n",
    "     [4, 5, 6],\n",
    "     [7, 8, 9],\n",
    "     [10, 11, 12]]\n",
    "\n",
    "arr = np.array(a, dtype=np.float64)\n",
    "print(arr)\n",
    "# [[ 1.  2.  3.]\n",
    "#  [ 4.  5.  6.]\n",
    "#  [ 7.  8.  9.]\n",
    "#  [10. 11. 12.]]\n",
    "print(arr.shape)    # (4, 3) : 4행 3열\n",
    "\n",
    "## 3차원 중첩 리스트\n",
    "## ndarray를 생성한 후 shape를 출력하면 (2, 2, 3)이 나오도록 list 작성\n",
    "a = [[[1, 2, 3], [4, 5, 6]] , [[7, 8, 9], [10, 11, 12]]]\n",
    "arr = np.array(a, dtype=np.float64)\n",
    "print(arr)          # [[[ 1.  2.  3.]\n",
    "                    #   [ 4.  5.  6.]]\n",
    "\n",
    "                    #  [[ 7.  8.  9.]\n",
    "                    #   [10. 11. 12.]]]\n",
    "print(arr.shape)    # (2, 2, 3)"
   ]
  },
  {
   "cell_type": "markdown",
   "metadata": {},
   "source": [
    "## numpy array (ndarray) 의 크기\n",
    "### ```size```"
   ]
  },
  {
   "cell_type": "code",
   "execution_count": null,
   "metadata": {
    "pycharm": {
     "name": "#%%\n"
    }
   },
   "outputs": [],
   "source": [
    "# numpy array (ndarray) 의 크기를 알아보자\n",
    "\n",
    "a = [[1, 2, 3], [4, 5, 6], [7, 8, 9], [10, 11, 12]]    # 4 x 3\n",
    "\n",
    "arr = np.array(a, dtype=np.float64)\n",
    "\n",
    "print(arr)              # [[ 1.  2.  3.]\n",
    "                        #  [ 4.  5.  6.]\n",
    "                        #  [ 7.  8.  9.]\n",
    "                        #  [10. 11. 12.]]\n",
    "print(arr.size)         # 12\n",
    "print(len(arr))         # 4 : 첫번째 차원의 요소 갯수를 리턴\n",
    "\n",
    "print(arr.shape)        # (4, 3)"
   ]
  },
  {
   "cell_type": "code",
   "execution_count": null,
   "metadata": {
    "pycharm": {
     "name": "#%%\n"
    }
   },
   "outputs": [],
   "source": [
    "arr.shape = (2, 6)      # shape 재조정 가능\n",
    "print(arr)              # [[ 1.  2.  3.  4.  5.  6.]\n",
    "                        #  [ 7.  8.  9. 10. 11. 12.]]"
   ]
  },
  {
   "cell_type": "code",
   "execution_count": null,
   "metadata": {
    "pycharm": {
     "name": "#%%\n"
    }
   },
   "outputs": [],
   "source": [
    "arr.shape = (3, 2, 2)   # 면, 행, 열\n",
    "print(arr)              # [[[ 1.  2.]\n",
    "                        #   [ 3.  4.]]\n",
    "\n",
    "                        #  [[ 5.  6.]\n",
    "                        #   [ 7.  8.]]\n",
    "\n",
    "                        #  [[ 9. 10.]\n",
    "                        #   [11. 12.]]]\n",
    "\n",
    "# 이렇게 shape 속성을 이영해서 변경되는 방식은 잘 사용하지 않는다.\n",
    "# reshape() 함수를 이용하여 shape를 변경하는 경우가 더 많다."
   ]
  },
  {
   "cell_type": "markdown",
   "metadata": {},
   "source": [
    "## ndarray의 데이터 타입 변경\n",
    "### ```astype```"
   ]
  },
  {
   "cell_type": "code",
   "execution_count": null,
   "metadata": {
    "pycharm": {
     "name": "#%%\n"
    }
   },
   "outputs": [],
   "source": [
    "# ndarray를 생성할 때 dtype을 지정해서 만든다.\n",
    "# ndarry의 데이터 타입을 변경하려면 어떻게 해야 할까?\n",
    "\n",
    "import numpy as np\n",
    "arr = np.array([1.5, 2.3, 8.3, 9.8, 7.7], dtype=np.float64)\n",
    "print(arr)                      # [1.5 2.3 8.3 9.8 7.7]\n",
    "\n",
    "result = arr.astype(np.int32)   # 실수 -> 정수 형변환시 소수점은 버린다.\n",
    "print(result)                   # [1 2 8 9 7]\n",
    "print(result.dtype)             # int32"
   ]
  },
  {
   "cell_type": "markdown",
   "metadata": {},
   "source": [
    "# ndarray를 생성하는 여러가지 방법\n",
    ">- ```zeros```, ```ones```, ```full```, ```empty```\n",
    ">- ```zeros_like```, ```ones_like```, ```full_like```\n",
    ">- ```arange```\n",
    ">- ```linspace```\n",
    "\n",
    "## 1. ```zeros```, ```ones```, ```full```, ```empty```"
   ]
  },
  {
   "cell_type": "code",
   "execution_count": null,
   "metadata": {
    "pycharm": {
     "name": "#%%\n"
    }
   },
   "outputs": [],
   "source": [
    "import numpy as np\n",
    "\n",
    "## ndarray를 만드는 다른 방법 => zeros, ones, full, empty\n",
    "\n",
    "arr = np.zeros((3, 4))      # 0으로 채운 numpy array를 만든다.\n",
    "                            # shape을 명시해야 한다.\n",
    "                            # type은 np.float64로 지정.\n",
    "print(arr)                  # [[0. 0. 0. 0.]\n",
    "                            #  [0. 0. 0. 0.]\n",
    "                            #  [0. 0. 0. 0.]]\n",
    "\n",
    "arr = np.ones((2, 5))       # 1로 채운 numpy array를 만든다.\n",
    "print(arr)                  # [[1. 1. 1. 1. 1.]\n",
    "                            #  [1. 1. 1. 1. 1.]]\n",
    "\n",
    "arr = np.full((3, 5), 7, dtype=np.float64)\n",
    "print(arr)                  # [[7. 7. 7. 7. 7.]\n",
    "                            #  [7. 7. 7. 7. 7.]\n",
    "                            #  [7. 7. 7. 7. 7.]]\n",
    "\n",
    "arr = np.empty((3, 3))      # 3 x 3 ndrray를 생성하는데, 초기값을 주지 않는다.\n",
    "                            # 원하는 shape의 공간만 설정한다.\n",
    "print(arr)"
   ]
  },
  {
   "cell_type": "markdown",
   "metadata": {},
   "source": [
    "## 2. ```zeros_like```, ```ones_like```, ```full_like```"
   ]
  },
  {
   "cell_type": "code",
   "execution_count": null,
   "metadata": {
    "pycharm": {
     "name": "#%%\n"
    }
   },
   "outputs": [],
   "source": [
    "## ndarray를 만드는 다른 방법 => zeros_like, ones_like, full_like\n",
    "\n",
    "arr = np.array([(1, 2, 3), (4, 5, 6)])           # 2 x 3 ndrray 생상\n",
    "print(arr)                                       # [[1 2 3]\n",
    "                                                 #  [4 5 6]]\n",
    "\n",
    "# ones, zeros, full, empty 함수들과 상당히 유사한 함수를 이용\n",
    "result = np.zeros_like(arr, dtype=np.float64)   # arr과 똑같은 shaped의 ndrray 생성\n",
    "print(result)                                   # [[0. 0. 0.]\n",
    "                                                #  [0. 0. 0.]]\n",
    "\n",
    "result = np.ones_like(arr, dtype=np.float64)\n",
    "print(result)                                   # [[1. 1. 1.]\n",
    "                                                #  [1. 1. 1.]]\n",
    "\n",
    "result = np.full_like(arr, 5, dtype=np.float64)\n",
    "print(result)                                   # [[5. 5. 5.]\n",
    "                                                #  [5. 5. 5.]]"
   ]
  },
  {
   "cell_type": "markdown",
   "metadata": {},
   "source": [
    "## 3. ```arange```"
   ]
  },
  {
   "cell_type": "code",
   "execution_count": null,
   "metadata": {
    "pycharm": {
     "name": "#%%\n"
    }
   },
   "outputs": [],
   "source": [
    "## ndarray를 만드는 다른 방법 => arange\n",
    "\n",
    "# python의 range와 유사하다.\n",
    "# 주어진 범위 내에서 지저한 간격으로 연속적인 원소를 가진 ndarray를 생성\n",
    "a = range(1, 10, 1)\n",
    "print(a)                      # range(1, 10)\n",
    "\n",
    "arr = np.arange(1, 10, 1)     # 1 <= x < 10, 1씩 증가\n",
    "print(arr)                    # [1 2 3 4 5 6 7 8 9]"
   ]
  },
  {
   "cell_type": "markdown",
   "metadata": {},
   "source": [
    "## 4. ```linspace```"
   ]
  },
  {
   "cell_type": "code",
   "execution_count": 1,
   "metadata": {
    "pycharm": {
     "name": "#%%\n"
    },
    "scrolled": true
   },
   "outputs": [
    {
     "name": "stdout",
     "output_type": "stream",
     "text": [
      "[ 0.  1.  2.  3.  4.  5.  6.  7.  8.  9. 10.]\n",
      "--------------------------------------------------------------------\n",
      "\n",
      "[ 0.          0.83333333  1.66666667  2.5         3.33333333  4.16666667\n",
      "  5.          5.83333333  6.66666667  7.5         8.33333333  9.16666667\n",
      " 10.        ]\n",
      "--------------------------------------------------------------------\n",
      "\n",
      "[  1.   5.   9.  13.  17.  21.  25.  29.  33.  37.  41.  45.  49.  53.\n",
      "  57.  61.  65.  69.  73.  77.  81.  85.  89.  93.  97. 101. 105. 109.\n",
      " 113. 117. 121.]\n",
      "--------------------------------------------------------------------\n",
      "\n"
     ]
    },
    {
     "data": {
      "image/png": "[encoded data removed]",
      "text/plain": [
       "<Figure size 432x288 with 1 Axes>"
      ]
     },
     "metadata": {
      "needs_background": "light"
     },
     "output_type": "display_data"
    }
   ],
   "source": [
    "## ndarray를 만드는 다른 방법 => linspace\n",
    "\n",
    "# linspace 기능을 확인하기 위해 그래프로 데이터를 그린다!\n",
    "#  => matplotlib module, searborn 등등..\n",
    "\n",
    "import numpy as np\n",
    "import matplotlib.pyplot as plt\n",
    "\n",
    "# np.linspace(start, stop, num)\n",
    "# start <= x <= stop, num개의 숫자를 균일한 간격으로 생성해서 ndarray 생성\n",
    "\n",
    "arr = np.linspace(0, 10, 11)\n",
    "print(arr)        # [ 0.  1.  2.  3.  4.  5.  6.  7.  8.  9. 10.]\n",
    "\n",
    "print(\"--------------------------------------------------------------------\\n\")\n",
    "arr = np.linspace(0, 10, 13)\n",
    "print(arr)       # [ 0.    0.83333333  1.66666667  2.5    3.33333333  4.16666667\n",
    "                 #   5.   5.83333333  6.66666667  7.5     8.33333333  9.16666667\n",
    "                 #  10.]\n",
    "\n",
    "print(\"--------------------------------------------------------------------\\n\")\n",
    "arr = np.linspace(1, 121, 31)\n",
    "# 원소간의 간격은 (stop-start) / (num-1)\n",
    "# 120 / 30 = 4\n",
    "# [1 5 9 ..]\n",
    "print(arr)\n",
    "# [  1.   5.   9.  13.  17.  21.  25.  29.  33.  37.  41.  45.  49.  53.\n",
    "#   57.  61.  65.  69.  73.  77.  81.  85.  89.  93.  97. 101. 105. 109.\n",
    "#  113. 117. 121.]\n",
    "\n",
    "print(\"--------------------------------------------------------------------\\n\")\n",
    "plt.plot(arr, \"*\")\n",
    "plt.show()"
   ]
  },
  {
   "cell_type": "markdown",
   "metadata": {},
   "source": [
    "# 랜덤으로 ndarray 생성하기\n",
    "> ## ndarray를 생성할 때 랜덤값 기반으로 생성할 수 있다.\n",
    "> ## 총 5가지 방법으로 ndarray를 생성할 수 있다.\n",
    ">- ```np.random.normal()```\n",
    ">- ```np.random.rand(d0, d1, d2.. )```\n",
    ">- ```np.random.randn()```\n",
    ">- ```np.random.ranadint(low, high, shape)```\n",
    ">- ```np.random.random(shape)```\n",
    "\n",
    "## 1. np.random.normal()\n",
    "> 정규분포(평균, 표준편차 이용) 확률밀도함수에서 실수 표본을 추출해서 ndarray 생성"
   ]
  },
  {
   "cell_type": "code",
   "execution_count": 2,
   "metadata": {
    "pycharm": {
     "name": "#%%\n"
    }
   },
   "outputs": [
    {
     "name": "stdout",
     "output_type": "stream",
     "text": [
      "[47.98857495 57.02776859 49.26816595 ... 49.90021773 47.98405093\n",
      " 52.04658754]\n"
     ]
    },
    {
     "data": {
      "image/png": "[encoded data removed]",
      "text/plain": [
       "<Figure size 432x288 with 1 Axes>"
      ]
     },
     "metadata": {
      "needs_background": "light"
     },
     "output_type": "display_data"
    }
   ],
   "source": [
    "# 1. np.random.normal() : 정규분포 확률밀도함수에서 실수 표본을 추출해서 ndarray 생성\n",
    "#                         평균, 표준편차\n",
    "\n",
    "mean = 50                                     # 평균\n",
    "std = 2                                       # 표준편차\n",
    "arr = np.random.normal(mean, std, (10000, ))  # 난수 10000개 추출\n",
    "\n",
    "print(arr)\n",
    "# [44.50727651 48.99284656 49.07309962 ... 49.88544463 52.43436293\n",
    "#  52.36112056]\n",
    "\n",
    "# 특정 영역 안에 몇개 있는지 히스토그램으로 나타낸다.\n",
    "plt.hist(arr, bins=100)\n",
    "plt.show()"
   ]
  },
  {
   "cell_type": "markdown",
   "metadata": {},
   "source": [
    "## 2. np.random.rand(d0, d1, d2.. )\n",
    "> [0, 1) (0<= 실수x <=1) 범위에서 균등분포로 실수 추출\n",
    "> - 인자 하나 => 1차원, 두개 => 2차원"
   ]
  },
  {
   "cell_type": "code",
   "execution_count": 3,
   "metadata": {
    "pycharm": {
     "name": "#%%\n"
    }
   },
   "outputs": [
    {
     "name": "stdout",
     "output_type": "stream",
     "text": [
      "[0.80773376 0.59460825 0.25377902 ... 0.7737356  0.471435   0.7126159 ]\n"
     ]
    },
    {
     "data": {
      "image/png": "[encoded data removed]",
      "text/plain": [
       "<Figure size 432x288 with 1 Axes>"
      ]
     },
     "metadata": {
      "needs_background": "light"
     },
     "output_type": "display_data"
    }
   ],
   "source": [
    "# 2. np.random.rand(d0, d1, d2.. ) : [0, 1) (0<= 실수x <=1) 범위에서 균등분포로 실수 추출\n",
    "# 인자 하나 => 1차원, 두개 => 2차원\n",
    "arr = np.random.rand(100000)\n",
    "print(arr)\n",
    "# [0.08386971 0.84501991 0.09875647 ... 0.22411621 0.7281503  0.23096898]\n",
    "\n",
    "plt.hist(arr, bins=100)\n",
    "plt.show()"
   ]
  },
  {
   "cell_type": "markdown",
   "metadata": {},
   "source": [
    "## 3. np.random.randn()\n",
    "> 실수 추출, 표준정규분포에서 난수 추출\n",
    "> - 표준정규분포 - 평균 0, 표준편차 1"
   ]
  },
  {
   "cell_type": "code",
   "execution_count": 5,
   "metadata": {
    "pycharm": {
     "name": "#%%\n"
    }
   },
   "outputs": [
    {
     "name": "stdout",
     "output_type": "stream",
     "text": [
      "[-0.5910354  -2.03353786 -1.20951491 ...  3.00370113 -1.8263894\n",
      "  0.99662386]\n"
     ]
    },
    {
     "data": {
      "image/png": "[encoded data removed]",
      "text/plain": [
       "<Figure size 432x288 with 1 Axes>"
      ]
     },
     "metadata": {
      "needs_background": "light"
     },
     "output_type": "display_data"
    }
   ],
   "source": [
    "# 3. np.random.randn() : 실수 추출, 표준정규분포에서 난수 추출\n",
    "#                        표준정규분포 - 평균 0, 표준편차 1\n",
    "\n",
    "arr = np.random.randn(100000)\n",
    "print(arr)\n",
    "# [-0.55739177  2.53737014  0.36589348 ... -0.2681497  -0.51712975\n",
    "#   0.53599655]\n",
    "\n",
    "plt.hist(arr, bins=100)\n",
    "plt.show()"
   ]
  },
  {
   "cell_type": "markdown",
   "metadata": {},
   "source": [
    "## 4. np.random.ranadint(low, high, shape)\n",
    "> 균등분포 확률밀도함수에서 난수 추출\n",
    "> - 정수값을 난수로 추출"
   ]
  },
  {
   "cell_type": "code",
   "execution_count": 6,
   "metadata": {
    "pycharm": {
     "name": "#%%\n"
    }
   },
   "outputs": [
    {
     "name": "stdout",
     "output_type": "stream",
     "text": [
      "[ 91  96  -2 ... -97 -64 -12]\n"
     ]
    },
    {
     "data": {
      "image/png": "[encoded data removed]",
      "text/plain": [
       "<Figure size 432x288 with 1 Axes>"
      ]
     },
     "metadata": {
      "needs_background": "light"
     },
     "output_type": "display_data"
    }
   ],
   "source": [
    "# 4. np.random.ranadint(low, high, shape) : 균등분포 확률밀도함수에서 난수 추출\n",
    "#                                           정수값을 난수로 추출\n",
    "\n",
    "arr = np.random.randint(-100, 100, (100000, ))\n",
    "print(arr)\n",
    "# [-86  36  13 ...  71   4  90]\n",
    "\n",
    "plt.hist(arr, bins=100)\n",
    "plt.show()"
   ]
  },
  {
   "cell_type": "markdown",
   "metadata": {},
   "source": [
    "# 5. np.random.random(shape)\n",
    "> [0, 1) 균등분포에서 실수 난수를 추출!"
   ]
  },
  {
   "cell_type": "code",
   "execution_count": 7,
   "metadata": {
    "pycharm": {
     "name": "#%%\n"
    }
   },
   "outputs": [
    {
     "name": "stdout",
     "output_type": "stream",
     "text": [
      "[0.60368621 0.80929953 0.08861186 ... 0.48882452 0.55722452 0.49699355]\n"
     ]
    },
    {
     "data": {
      "image/png": "[encoded data removed]",
      "text/plain": [
       "<Figure size 432x288 with 1 Axes>"
      ]
     },
     "metadata": {
      "needs_background": "light"
     },
     "output_type": "display_data"
    }
   ],
   "source": [
    "# 5. np.random.random(shape) : [0, 1) 균등분포에서 실수 난수를 추출!\n",
    "\n",
    "arr = np.random.random((100000, ))\n",
    "print(arr)\n",
    "plt.hist(arr, bins=100)\n",
    "plt.show()"
   ]
  },
  {
   "cell_type": "markdown",
   "metadata": {},
   "source": [
    "# 랜덤 관련 함수\n",
    "\n",
    ">```seed```<br>\n",
    ">```shuffle```<br>\n",
    ">```choice```"
   ]
  },
  {
   "cell_type": "markdown",
   "metadata": {},
   "source": [
    "## 1. ```seed()```\n",
    "> 난수의 재현"
   ]
  },
  {
   "cell_type": "code",
   "execution_count": 8,
   "metadata": {
    "pycharm": {
     "name": "#%%\n"
    }
   },
   "outputs": [
    {
     "name": "stdout",
     "output_type": "stream",
     "text": [
      "[ 9 15 64 28 89 93 29  8 73  0]\n"
     ]
    }
   ],
   "source": [
    "# Numpy가 제공하는 랜덤 관련 함수\n",
    "\n",
    "## 1. 난수의 재현\n",
    "#     랜덤값도 실제로는 특정 알고리즘의 결과물이다.\n",
    "#     => 초기에 시작값을 설정해주면, 항상 같은 랜덤값이 도출된다.\n",
    "\n",
    "np.random.seed(10)\n",
    "arr = np.random.randint(0, 100, (10, ))\n",
    "print(arr)\n",
    "# [ 9 15 64 28 89 93 29  8 73  0]"
   ]
  },
  {
   "cell_type": "markdown",
   "metadata": {},
   "source": [
    "## 2. ```shuffle()```\n",
    "> ndarray의 순서를 랜덤하게"
   ]
  },
  {
   "cell_type": "code",
   "execution_count": 9,
   "metadata": {
    "pycharm": {
     "name": "#%%\n"
    }
   },
   "outputs": [
    {
     "name": "stdout",
     "output_type": "stream",
     "text": [
      "[0 1 2 3 4 5 6 7 8 9]\n",
      "[1 5 2 9 7 0 3 4 6 8]\n"
     ]
    }
   ],
   "source": [
    "## 2. ndarray의 순서를 랜덤하게 바꾸려면?\n",
    "\n",
    "arr = np.arange(10)\n",
    "print(arr)\n",
    "# [0 1 2 3 4 5 6 7 8 9]\n",
    "\n",
    "np.random.shuffle(arr) # ndrray 자체가 변형된다.\n",
    "print(arr)\n",
    "# [0 7 5 2 3 9 6 4 8 1] => 실행될 때 마다 바뀜"
   ]
  },
  {
   "cell_type": "markdown",
   "metadata": {},
   "source": [
    "## 3. ```choice()```\n",
    "> Sampling 기능\n",
    "> ndarray 안에서 일부를 무작위로 선택하는 기능 => **Sampling**\n",
    "\n",
    "> ```np.random.choice(arr, size, replace, p)```\n",
    "> 1) arr : numpy array 혹은 정수가 나온다. <br>\n",
    ">&nbsp;&nbsp;&nbsp; 정수면, arange(정수) <br>\n",
    "> 2) size : 정수값. 샘플의 숫자 <br>\n",
    "> 3) replace : Boolean(True, False) <br>\n",
    "> &nbsp;&nbsp;&nbsp;True => 한번 선택한 데이터를 다시 샘플링 할 수 있다. <br>\n",
    "> 4) p : ndrray.<br>\n",
    ">  &nbsp;&nbsp;&nbsp;각 데이터가 샘플링될 수 있는 확률"
   ]
  },
  {
   "cell_type": "code",
   "execution_count": null,
   "metadata": {
    "pycharm": {
     "name": "#%%\n"
    }
   },
   "outputs": [],
   "source": [
    "## 3. ndarray 안에서 일부를 무작위로 선택하는 기능 => Sampling -> choice()\n",
    "\n",
    "arr = np.random.choice(5, 3, replace=True)\n",
    "print(arr)    #  [0 0 4]\n",
    "\n",
    "arr = np.random.choice([1, 2, 3, 4, 5], 3, replace=False)\n",
    "print(arr)   # [2 3 1]\n",
    "\n",
    "arr = np.random.choice(5, 5, replace=False) # Shuffle과 동일 기능\n",
    "print(arr)   #  [1 3 0 4 2]\n",
    "\n",
    "                                            # [0 1 2 3 4 5 ]\n",
    "arr = np.random.choice(5, 10, replace=True, p=[0.2, 0, 0.3, 0.4, 0.1])\n",
    "print(arr)   # [3 2 3 4 3 4 3 2 0 2]"
   ]
  }
 ],
 "metadata": {
  "kernelspec": {
   "display_name": "Python [conda env:data_env] *",
   "language": "python",
   "name": "conda-env-data_env-py"
  },
  "language_info": {
   "codemirror_mode": {
    "name": "ipython",
    "version": 3
   },
   "file_extension": ".py",
   "mimetype": "text/x-python",
   "name": "python",
   "nbconvert_exporter": "python",
   "pygments_lexer": "ipython3",
   "version": "3.7.7"
  }
 },
 "nbformat": 4,
 "nbformat_minor": 4
}
