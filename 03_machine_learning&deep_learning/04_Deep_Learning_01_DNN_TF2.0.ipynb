{
 "cells": [
  {
   "cell_type": "markdown",
   "metadata": {},
   "source": [
    "## GATE 연산 수행하는 Deep Learning 구현\n",
    "### tensorflow 2.0 keras"
   ]
  },
  {
   "cell_type": "code",
   "execution_count": null,
   "metadata": {},
   "outputs": [],
   "source": [
    "import tensorflow as tf\n",
    "print(tf.__version__)"
   ]
  },
  {
   "cell_type": "code",
   "execution_count": null,
   "metadata": {},
   "outputs": [],
   "source": [
    "%reset\n",
    "\n",
    "# TF 2.11 버전\n",
    "# GATE 연산 수행하는 Deep Learning구현\n",
    "\n",
    "import numpy as np\n",
    "import tensorflow as tf\n",
    "from tensorflow.keras.models import Sequential\n",
    "from tensorflow.keras.layers import Flatten, Dense\n",
    "from tensorflow.keras.optimizers import SGD\n",
    "from sklearn.metrics import classification_report\n",
    "import matplotlib.pyplot as plt\n",
    "\n",
    "print(tf.__version__) # \n",
    "\n",
    "# Training Data Set\n",
    "x_data = np.array([[0, 0],\n",
    "                  [0, 1],\n",
    "                  [1, 0],\n",
    "                  [1, 1]], dtype=np.float32)\n",
    "\n",
    "\n",
    "# XOR GATE\n",
    "t_data = np.array([[0], [1], [1], [0]], dtype=np.float32) # 2차원\n",
    "\n",
    "model = Sequential()\n",
    "# model.add(Flatten(input_shape=(2, )))\n",
    "model.add(Dense(100, activation='sigmoid', input_shape=(2, )))\n",
    "model.add(Dense(6, activation='sigmoid'))\n",
    "model.add(Dense(1, activation='sigmoid'))\n",
    "\n",
    "model.compile(optimizer=SGD(learning_rate=1e-1),\n",
    "              loss='binary_crossentropy',\n",
    "              metrics=['accuracy'])\n",
    "\n",
    "history = model.fit(x_data, \n",
    "                    t_data,\n",
    "                    epochs=30000,\n",
    "                    verbose=0)\n",
    "\n",
    "predict_val = model.predict(x_data) # 실수값\n",
    "# print(predict_val) # 2.1.0\n",
    "result = tf.cast(predict_val >= 0.5, dtype=tf.float32).numpy().ravel()\n",
    "\n",
    "print(classification_report(t_data.ravel(), result))"
   ]
  },
  {
   "cell_type": "code",
   "execution_count": 4,
   "metadata": {},
   "outputs": [
    {
     "name": "stdout",
     "output_type": "stream",
     "text": [
      "dict_keys(['loss', 'accuracy'])\n"
     ]
    },
    {
     "data": {
      "image/png": "[encoded data removed]",
      "text/plain": [
       "<Figure size 432x288 with 1 Axes>"
      ]
     },
     "metadata": {
      "needs_background": "light"
     },
     "output_type": "display_data"
    }
   ],
   "source": [
    "print(history.history.keys()) \n",
    "# dict_keys(['loss', 'accuracy'])\n",
    "# epoch당 train data를 이용한 accuracy를 의미\n",
    "\n",
    "plt.plot(history.history['accuracy'], color='b')\n",
    "plt.show()"
   ]
  }
 ],
 "metadata": {
  "kernelspec": {
   "display_name": "Python [conda env:data_env_tensorflow2]",
   "language": "python",
   "name": "conda-env-data_env_tensorflow2-py"
  },
  "language_info": {
   "codemirror_mode": {
    "name": "ipython",
    "version": 3
   },
   "file_extension": ".py",
   "mimetype": "text/x-python",
   "name": "python",
   "nbconvert_exporter": "python",
   "pygments_lexer": "ipython3",
   "version": "3.7.9"
  }
 },
 "nbformat": 4,
 "nbformat_minor": 4
}
