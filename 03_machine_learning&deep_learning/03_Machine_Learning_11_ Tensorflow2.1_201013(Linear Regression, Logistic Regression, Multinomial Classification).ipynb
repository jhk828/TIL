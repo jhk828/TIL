{
 "cells": [
  {
   "cell_type": "code",
   "execution_count": 2,
   "metadata": {},
   "outputs": [],
   "source": [
    "# 201013\n",
    "import numpy as np\n",
    "import pandas as pd\n",
    "from scipy import stats # 이상치 처리\n",
    "# from sklearn.preprocessing import StandardScaler # 이상치에 덜 민감하지만 스케일에 차이가 다소 생긴다\n",
    "from sklearn.preprocessing import MinMaxScaler\n",
    "from sklearn.neighbors import KNeighborsRegressor\n",
    "# 분류 뿐만 아니라 Regression 처리를 할 때도 KNN을 활용할 수 있다.\n",
    "# Logistic일 경우 k값을 홀수로 설정한다.\n",
    "# KNeighborsClassifier -> 0, 1 Regression\n",
    "# KNeighborsRegressor -> 예측해서 결측치 채우기\n",
    "import warnings\n",
    "\n",
    "warnings.filterwarnings(action='ignore') # waring 출력을 하지 않는다.\n",
    "\n",
    "# Raw Data Loading\n",
    "df = pd.read_csv('./data/ozone.csv')\n",
    "\n",
    "training_data = df\n",
    "\n",
    "x_data = training_data[['Solar.R', 'Wind', 'Temp']] # 독립변수 \n",
    "t_data = training_data['Ozone'] # 종속 변수\n",
    "\n",
    "# 결측치 확인\n",
    "# df.isnull().sum()  # Solar.R     7\n",
    "\n",
    "# 1. 독립변수에 대한 결측치를 처리\n",
    "#   Solar.R에 7개의 결측치가 있는데 median으로 처리한다. (이상치 때문에 평균 사용x)\n",
    "for col in x_data.columns:\n",
    "    col_median = np.nanmedian(x_data[col]) # NaN이 있는 경우를 제외하고 median을 구한다.\n",
    "    x_data[col].loc[x_data[col].isnull()] = col_median\n",
    "\n",
    "# x_data.isnull().sum() # Solar.R    0 -> 결측치가 처리된 것을 확인한다.\n",
    "\n",
    "# 2. 독립변수에 대한 이상치를 검출한 후, 이상치는 mean 처리\n",
    "zscore = 1.8\n",
    "\n",
    "for col in x_data.columns:\n",
    "    outliers = x_data[col][np.abs(stats.zscore(x_data[col])) > zscore]\n",
    "    # 이상치에 해당하지 않는 행과 현재 열(column)만 추출하여 평균을 구한다.\n",
    "    col_mean = np.mean(x_data.loc[~x_data[col].isin(outliers), col]) \n",
    "    x_data.loc[x_data[col].isin(outliers), col] = col_mean # 이상치에 평균 적용\n",
    "    \n",
    "# 3. 정규화 진행\n",
    "\n",
    "scaler_x = MinMaxScaler()\n",
    "scaler_t = MinMaxScaler()\n",
    "\n",
    "scaler_x.fit(x_data.values)\n",
    "scaler_t.fit(t_data.values.reshape(-1, 1))\n",
    "\n",
    "x_data_norm = scaler_x.transform(x_data) # 2차원\n",
    "t_data_norm = scaler_t.transform(t_data.values.reshape(-1, 1)).ravel() \n",
    "# 스케일랑하려면 2차원으로 입력\n",
    "# 나중에 사용은 1차원으로 -> ravel() 적용\n",
    "\n",
    "# 4. 종속변수 (Ozone)에 대한 결측치는 KNN을 이용해서 예측값으로 imputation\n",
    "# 학습에 사용될 x_data_train_norm, t_data_train_norm을 구한다.\n",
    "x_data_train_norm = x_data_norm[~np.isnan(t_data_norm)]\n",
    "t_data_train_norm = t_data_norm[~np.isnan(t_data_norm)]\n",
    "\n",
    "# KNN 모델 생성 후 학습 진행\n",
    "knn_regressor = KNeighborsRegressor(n_neighbors=2)\n",
    "knn_regressor.fit(x_data_train_norm, t_data_train_norm)\n",
    "\n",
    "# KNN predict\n",
    "knn_predict = knn_regressor.predict(x_data_norm[np.isnan(t_data_norm)])\n",
    "t_data_norm[np.isnan(t_data_norm)] = knn_predict\n",
    "\n",
    "# 최종 데이터를 생성했다.\n",
    "# x_data_norm\n",
    "# t_data_norm\n",
    "\n",
    "#################################################################"
   ]
  },
  {
   "cell_type": "markdown",
   "metadata": {},
   "source": [
    "## Linear Regression"
   ]
  },
  {
   "cell_type": "code",
   "execution_count": 4,
   "metadata": {},
   "outputs": [
    {
     "name": "stdout",
     "output_type": "stream",
     "text": [
      "sklearn의 결과 : [[38.75927452]]\n",
      "Tensorflow의 결과 : [[38.75927452]]\n"
     ]
    }
   ],
   "source": [
    "# 학습을 진행한다. -> Linear Regression\n",
    "\n",
    "from sklearn.linear_model import LinearRegression\n",
    "from tensorflow.keras.models import Sequential\n",
    "from tensorflow.keras.layers import Flatten, Dense # Input, Outut layer들\n",
    "from tensorflow.keras.optimizers import SGD # Stochastic Gradient Descent\n",
    "\n",
    "# 태양광, 바람, 온도 - 테스트 데이터로 Ozone량을 예측한다.\n",
    "# scaler로 정규화 시키기 위해 2차원으로 test_data 준비\n",
    "test_data = [[310, 15, 80]] \n",
    "\n",
    "### sklearn\n",
    "sklearn_model = LinearRegression() # Model 생성\n",
    "sklearn_model.fit(x_data_norm, t_data_norm) # Model에 데이터를 학습시킨다. 이때 입력값은 1차원이어야\n",
    "\n",
    "# 테스트 데이터를 정규화시켜서 예측한다.\n",
    "result = sklearn_model.predict(scaler_x.transform(test_data)).reshape(-1, 1)\n",
    "\n",
    "# scaled된 결과를 원래 형태로 복구시킨다.\n",
    "scaled_result = scaler_t.inverse_transform(result) \n",
    "print('sklearn의 결과 : {}'.format(scaled_result))\n",
    "\n",
    "### Tensorflow 2.x\n",
    "\n",
    "# 모델 생성\n",
    "keras_model = Sequential()\n",
    "\n",
    "# 레이어 추가\n",
    "keras_model.add(Flatten(input_shape=(3,)))     # input layer\n",
    "keras_model.add(Dense(1, activation='linear')) # Linear Layer, 하나는 결과 하나\n",
    "\n",
    "# compile\n",
    "keras_model.compile(optimizer=SGD(learning_rate=1e-2),\n",
    "                   loss='mse') # MSE(Mean Square Error, 평균제곱오차)\n",
    "\n",
    "# 학습\n",
    "keras_model.fit(x_data_norm,\n",
    "                t_data_norm,\n",
    "                epochs=5000,\n",
    "                verbose=0)\n",
    "\n",
    "# prediction\n",
    "# 테스트 데이터를 정규화시켜서 예측한다.\n",
    "result = sklearn_model.predict(scaler_x.transform(test_data)).reshape(-1, 1)\n",
    "\n",
    "# scaled된 결과를 원래 형태로 복구시킨다.\n",
    "scaled_result = scaler_t.inverse_transform(result) \n",
    "print('Tensorflow의 결과 : {}'.format(scaled_result))\n",
    "\n",
    "# hidden layer만 추가하면 딥러닝"
   ]
  },
  {
   "cell_type": "markdown",
   "metadata": {},
   "source": [
    "## Logistic Regression"
   ]
  },
  {
   "cell_type": "code",
   "execution_count": 5,
   "metadata": {
    "scrolled": false
   },
   "outputs": [
    {
     "name": "stdout",
     "output_type": "stream",
     "text": [
      "Once deleted, variables cannot be recovered. Proceed (y/[n])? y\n",
      "Survived    0\n",
      "Pclass      0\n",
      "Sex         0\n",
      "Age         0\n",
      "Embarked    0\n",
      "Family      0\n",
      "dtype: int64\n"
     ]
    }
   ],
   "source": [
    "# Logistic Regression에 대해서 sklearn과 Tensorflow 2.x 구현\n",
    "\n",
    "# tiatic(kaggle) => logistic 문제 (결측치가 다수 있다.)\n",
    "\n",
    "# feature engineering\n",
    "\n",
    "%reset\n",
    "\n",
    "import numpy as np\n",
    "import pandas as pd\n",
    "import tensorflow as tf\n",
    "from tensorflow.keras.models import Sequential\n",
    "from tensorflow.keras.layers import Flatten, Dense\n",
    "from tensorflow.keras.optimizers import SGD\n",
    "from sklearn.preprocessing import MinMaxScaler\n",
    "from sklearn.model_selection import train_test_split\n",
    "from sklearn.linear_model import LogisticRegression\n",
    "from scipy import stats\n",
    "\n",
    "# Raw Data Loading\n",
    "df = pd.read_csv('./data/titanic/train.csv')\n",
    "\n",
    "# Feature Engineering\n",
    "\n",
    "# 필요없는 column 삭제\n",
    "\n",
    "df = df.drop(['PassengerId','Name','Ticket','Cabin','Fare'], axis=1, inplace=False)\n",
    "\n",
    "# 하나로 합칠 수 있는 column 처리\n",
    "df['Family'] = df['SibSp'] + df['Parch']\n",
    "df.drop(['SibSp','Parch'], axis=1, inplace=True)\n",
    "\n",
    "# 문자로 되어 있는 column을 숫자로 변환\n",
    "sex_dict = { 'male' : 0, 'female' : 1 }\n",
    "df['Sex'] = df['Sex'].map(sex_dict)\n",
    "\n",
    "embarked_dict = {'S' : 0, 'C' : 1, 'Q' : 2}\n",
    "df['Embarked'] = df['Embarked'].map(embarked_dict)\n",
    "\n",
    "# # 결측치 처리\n",
    "# Age에 177개의 결측치, Embarked에 결측치 2\n",
    "# Age는 median, Embarked는 mode를 이용하여 결측치 처리\n",
    "df.loc[df['Age'].isnull(),'Age'] = np.nanmedian(df['Age'].values)\n",
    "\n",
    "mode_result = stats.mode(df['Embarked'],nan_policy='omit')[0].ravel()\n",
    "# print('mode_result : {}'.format(mode_result))\n",
    "df.loc[df['Embarked'].isnull(),'Embarked'] = mode_result[0]\n",
    "print(df.isnull().sum())\n",
    "\n",
    "# 이상치 확인\n",
    "# zscore = 1.8\n",
    "\n",
    "# for col in df.columns:\n",
    "#     outliers = df.loc[np.abs(stats.zscore(df[col])) >= zscore,col]\n",
    "#     print('Col : {}에 이상치 : {}개'.format(col,outliers.sum()))\n",
    "#     print('outliers : {}'.format(outliers))\n",
    "# 실제로 이상치가 검출되지만 사실값이기 때문에 수정하지 않음.\n",
    "\n",
    "def age_category(age):\n",
    "    if ((age >=0) & (age<25)):\n",
    "        return 0\n",
    "    elif ((age >=25) & (age<50)):\n",
    "        return 1\n",
    "    else:\n",
    "        return 2\n",
    "\n",
    "df['Age'] = df['Age'].map(age_category)    \n",
    "\n",
    "#################################################\n",
    "\n",
    "df\n",
    "# data split\n",
    "\n",
    "x_data_train, x_data_test, t_data_train, t_data_test = \\\n",
    "train_test_split(df.drop('Survived', axis=1, inplace=False), df['Survived'], test_size=0.3, random_state=0)\n",
    "\n",
    "# Normalization\n",
    "scaler = MinMaxScaler()\n",
    "scaler.fit(x_data_train)\n",
    "x_data_train_norm = scaler.transform(x_data_train)\n",
    "x_data_test_norm = scaler.transform(x_data_test)\n",
    "\n",
    "del x_data_train\n",
    "del x_data_test\n",
    "\n",
    "##################"
   ]
  },
  {
   "cell_type": "code",
   "execution_count": 6,
   "metadata": {},
   "outputs": [
    {
     "name": "stdout",
     "output_type": "stream",
     "text": [
      "sklearn의 정확도는 0.7947761194029851\n",
      "268/268 [==============================] - 0s 28us/sample - loss: 0.5008 - accuracy: 0.7873\n",
      "TF2.0의 정확도는 [0.5007948546267268, 0.78731346]\n"
     ]
    }
   ],
   "source": [
    "## sklearn으로 모델 구현\n",
    "sklearn_model = LogisticRegression() # model 생성\n",
    "sklearn_model.fit(x_data_train_norm, t_data_train) # model 학습\n",
    "sklearn_result = sklearn_model.score(x_data_test_norm, t_data_test)\n",
    "\n",
    "print('sklearn의 정확도는 {}'.format(sklearn_result))\n",
    "# sklearn의 정확도는 0.7947761194029851\n",
    "\n",
    "## tensorflow 2.x로 구현\n",
    "keras_model = Sequential()\n",
    "\n",
    "# 입력되는 독렵변수의 갯수 입력 -> shape[1] \n",
    "keras_model.add(Flatten(input_shape=(x_data_train_norm.shape[1], ))) \n",
    "# Output Layer에 출력값이 몇개인지, Logistic이 몇개인지 -> 살았는지 죽었는지 0, 1로 하나만 출력됨\n",
    "keras_model.add(Dense(1, activation='sigmoid'))\n",
    "\n",
    "keras_model.compile(optimizer=SGD(learning_rate=1e-3),\n",
    "                    loss='binary_crossentropy',\n",
    "                    metrics=['accuracy'])\n",
    "\n",
    "# 교차 엔트로피는 주로 분류 문제에서 많이 사용되는데,\n",
    "# 특별히 예측 값이 참과 거짓 둘 중 하나인 형식일 때는 binary_crossentropy(이항 교차 엔트로피)를 씁니다. \n",
    "# 지금 구하고자 하는 것은 생존(1) 또는 사망(0) 둘 중 하나이므로 binary_crossentropy를 사용\n",
    "\n",
    "result = keras_model.fit(x_data_train_norm,\n",
    "                t_data_train,\n",
    "                epochs=1000,\n",
    "                verbose=0,\n",
    "                validation_split=0.3) # batch x\n",
    "\n",
    "keras_result = keras_model.evaluate(x_data_test_norm, t_data_test)\n",
    "\n",
    "print('TF2.0의 정확도는 {}'.format(keras_result))\n",
    "\n",
    "# TF2.0의 정확도는 [0.5007948546267268, 0.78731346]"
   ]
  },
  {
   "cell_type": "code",
   "execution_count": 7,
   "metadata": {},
   "outputs": [
    {
     "name": "stdout",
     "output_type": "stream",
     "text": [
      "<class 'tensorflow.python.keras.callbacks.History'>\n",
      "<class 'dict'>\n",
      "dict_keys(['loss', 'accuracy', 'val_loss', 'val_accuracy'])\n"
     ]
    },
    {
     "data": {
      "image/png": "[encoded data removed]",
      "text/plain": [
       "<Figure size 432x288 with 1 Axes>"
      ]
     },
     "metadata": {
      "needs_background": "light"
     },
     "output_type": "display_data"
    }
   ],
   "source": [
    "import matplotlib.pyplot as plt\n",
    "\n",
    "print(type(result)) # 학습에 대한 정보들이 History라는 객체로 만들어진다.\n",
    "print(type(result.history))\n",
    "print(result.history.keys()) # ['loss', 'accuracy', 'val_loss', 'val_accuracy']\n",
    "\n",
    "# epoch마다 loss와 accuracy, val_accuracy를 계산한다.\n",
    "# epoch이 늘어나면서 오히려 accuracy가 떨어진다. \n",
    "plt.plot(result.history['accuracy'], color='b')\n",
    "plt.plot(result.history['val_accuracy'], color='r')\n",
    "plt.show()\n",
    "\n",
    "# 같이 증가하다가 빨간색만 떨어지며 차이 발생 => Overfitting 발생\n",
    "# training data에는 적용이 잘 되지만 validation에는 그렇지 않다.\n",
    "# 같이 증가하는 지점까지가 오버피팅이 발생하지 않는 최적점이다. -> 그러나 accuracy가 너무 낮다."
   ]
  },
  {
   "cell_type": "markdown",
   "metadata": {},
   "source": [
    "## Multinomial Classification\n",
    "* MNIST 예제"
   ]
  },
  {
   "cell_type": "code",
   "execution_count": 9,
   "metadata": {},
   "outputs": [
    {
     "name": "stdout",
     "output_type": "stream",
     "text": [
      "Once deleted, variables cannot be recovered. Proceed (y/[n])? y\n"
     ]
    }
   ],
   "source": [
    "## Multinomial Classification\n",
    "\n",
    "# sklearn과 TF 2.x로 구현한다.\n",
    "# MNIST 예제로 구현\n",
    "\n",
    "%reset\n",
    "\n",
    "import numpy as np\n",
    "import pandas as pd\n",
    "import tensorflow as tf\n",
    "from sklearn.preprocessing import MinMaxScaler\n",
    "from sklearn.linear_model import LogisticRegression # multinomial 구현도 이거 이용\n",
    "from sklearn.model_selection import train_test_split\n",
    "from sklearn.metrics import classification_report\n",
    "from tensorflow.keras.models import Sequential\n",
    "from tensorflow.keras.layers import Flatten, Dense\n",
    "from tensorflow.keras.optimizers import SGD\n",
    "\n",
    "# Raw Data Loading\n",
    "df = pd.read_csv('./data/mnist/train.csv')\n",
    "\n",
    "# 결측치나 이상치가 없어 Feature Engineering은 하지 않는다.\n",
    "\n",
    "# 독립변수와 종속변수 분리\n",
    "x_data = df.drop('label', axis=1, inplace=False)\n",
    "t_data = df['label'] # one-hot encoding해야하는데 일단 안함\n",
    "\n",
    "# Normalization\n",
    "scaler = MinMaxScaler()\n",
    "scaler.fit(x_data)\n",
    "x_data_norm = scaler.transform(x_data)\n",
    "\n",
    "# Data Split\n",
    "x_data_train, x_data_test, t_data_train, t_data_test = \\\n",
    "train_test_split(x_data_norm, t_data, test_size=0.3, random_state=0)\n",
    "\n",
    "# 데이터가 준비되었으니 학습 진행"
   ]
  },
  {
   "cell_type": "code",
   "execution_count": 10,
   "metadata": {},
   "outputs": [
    {
     "name": "stdout",
     "output_type": "stream",
     "text": [
      "sklearn result : \n",
      "              precision    recall  f1-score   support\n",
      "\n",
      "           0       0.96      0.96      0.96      1242\n",
      "           1       0.95      0.97      0.96      1429\n",
      "           2       0.92      0.90      0.91      1276\n",
      "           3       0.91      0.90      0.91      1298\n",
      "           4       0.92      0.92      0.92      1236\n",
      "           5       0.88      0.88      0.88      1119\n",
      "           6       0.93      0.96      0.94      1243\n",
      "           7       0.94      0.93      0.94      1334\n",
      "           8       0.89      0.88      0.88      1204\n",
      "           9       0.89      0.89      0.89      1219\n",
      "\n",
      "    accuracy                           0.92     12600\n",
      "   macro avg       0.92      0.92      0.92     12600\n",
      "weighted avg       0.92      0.92      0.92     12600\n",
      "\n"
     ]
    }
   ],
   "source": [
    "## sklearn\n",
    "sklearn_model = LogisticRegression(solver='saga')\n",
    "\n",
    "# solver라는 개념이 있는데, default로 사용되는건 lbfgs\n",
    "# lbfgs : 작은 데이터셋에 좋다.\n",
    "# 데이터량이 많은 경우 SAG (Stochastic Average Gradient Descent)를 이용\n",
    "# 일반적으로는 이걸 개량한 saga를 더 많이 이용한다.\n",
    "\n",
    "sklearn_model.fit(x_data_train, t_data_train) # 학습진행\n",
    "print('sklearn result : ') \n",
    "print(classification_report(t_data_test, \n",
    "                            sklearn_model.predict(x_data_test)))"
   ]
  },
  {
   "cell_type": "code",
   "execution_count": 11,
   "metadata": {},
   "outputs": [
    {
     "name": "stdout",
     "output_type": "stream",
     "text": [
      "12600/12600 [==============================] - 0s 16us/sample - loss: 0.2887 - sparse_categorical_accuracy: 0.9199\n",
      "[0.28872225853185807, 0.9199206]\n",
      "tensorflow result : \n"
     ]
    }
   ],
   "source": [
    "# TF 2.0 구현\n",
    "keras_model = Sequential()\n",
    "keras_model.add(Flatten(input_shape=(x_data_train.shape[1],)))\n",
    "keras_model.add(Dense(10, activation='softmax'))\n",
    "\n",
    "# 다중분류 -> categorical_crossentropy, t data를 one hot으로 입력해야\n",
    "keras_model.compile(optimizer=SGD(learning_rate=1e-2),\n",
    "                    loss='sparse_categorical_crossentropy',\n",
    "                    metrics=['sparse_categorical_accuracy'])\n",
    "\n",
    "history = keras_model.fit(x_data_train,\n",
    "                          t_data_train, \n",
    "                          epochs=500,\n",
    "                          batch_size=100,\n",
    "                          verbose=0,\n",
    "                          validation_split=0.3)\n",
    "\n",
    "print(keras_model.evaluate(x_data_test, t_data_test))\n",
    "print('tensorflow result : ')"
   ]
  },
  {
   "cell_type": "code",
   "execution_count": 12,
   "metadata": {},
   "outputs": [
    {
     "name": "stdout",
     "output_type": "stream",
     "text": [
      "              precision    recall  f1-score   support\n",
      "\n",
      "           0       0.95      0.96      0.95      1242\n",
      "           1       0.96      0.97      0.97      1429\n",
      "           2       0.93      0.90      0.92      1276\n",
      "           3       0.91      0.89      0.90      1298\n",
      "           4       0.92      0.92      0.92      1236\n",
      "           5       0.88      0.88      0.88      1119\n",
      "           6       0.92      0.96      0.94      1243\n",
      "           7       0.94      0.92      0.93      1334\n",
      "           8       0.89      0.88      0.89      1204\n",
      "           9       0.88      0.89      0.89      1219\n",
      "\n",
      "    accuracy                           0.92     12600\n",
      "   macro avg       0.92      0.92      0.92     12600\n",
      "weighted avg       0.92      0.92      0.92     12600\n",
      "\n"
     ]
    },
    {
     "data": {
      "image/png": "[encoded data removed]",
      "text/plain": [
       "<Figure size 432x288 with 1 Axes>"
      ]
     },
     "metadata": {
      "needs_background": "light"
     },
     "output_type": "display_data"
    }
   ],
   "source": [
    "print(classification_report(t_data_test, \n",
    "                            (tf.argmax(keras_model.predict(x_data_test), axis=1)).numpy()))\n",
    "\n",
    "# (tf.argmax(keras_model.predict(x_data_test), axis=1)).numpy()\n",
    "import matplotlib.pyplot as plt\n",
    "\n",
    "history.history.keys()\n",
    "plt.plot(history.history['sparse_categorical_accuracy'], color='b')\n",
    "plt.plot(history.history['val_sparse_categorical_accuracy'], color='r')\n",
    "plt.show()"
   ]
  }
 ],
 "metadata": {
  "kernelspec": {
   "display_name": "Python [conda env:data_env_tensorflow2]",
   "language": "python",
   "name": "conda-env-data_env_tensorflow2-py"
  },
  "language_info": {
   "codemirror_mode": {
    "name": "ipython",
    "version": 3
   },
   "file_extension": ".py",
   "mimetype": "text/x-python",
   "name": "python",
   "nbconvert_exporter": "python",
   "pygments_lexer": "ipython3",
   "version": "3.7.9"
  }
 },
 "nbformat": 4,
 "nbformat_minor": 4
}
