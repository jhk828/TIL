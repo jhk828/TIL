{
 "cells": [
  {
   "cell_type": "markdown",
   "metadata": {},
   "source": [
    "## Linear Regression Model을 Python으로 구현\n",
    "* Linear Regression Model의 이론적인 부분을 살펴보았으니 Python으로 구현해보자.\n",
    "\n",
    "#### 1. Training Data Set\n",
    "- 머신러닝에 입력으로 사용될 데이터를 NumPy array (ndarray) 형태로 준비\n",
    "\n",
    "#### 2. Linear Regression Model을 정의\n",
    "- y = Wx + b => model을 프로그램적으로 표현\n",
    "- W와 b에 대한 변수 선언한 후 초기값은 랜덤값으로 이용한다.\n",
    "\n",
    "#### 3. loss function을 정의\n",
    "- 손실함수 (loss function)에 대한 코드를 작성\n",
    "- matrix(행렬) 처리해야 한다.\n",
    "\n",
    "#### 4. learning rate 정의\n",
    "- 일반적으로 customizing이 되는 값으로,\n",
    "- 초기에는 0.001정도로 설정해서 사용하고\n",
    "- loss 값을 보고 조절한다.\n",
    "\n",
    "#### 5. 학습을 진행\n",
    "- 반복적으로 편미분을 이용해서 W와 b를 update하는 방식으로 구현"
   ]
  },
  {
   "cell_type": "code",
   "execution_count": 18,
   "metadata": {
    "scrolled": true
   },
   "outputs": [
    {
     "data": {
      "image/png": "[encoded data removed]",
      "text/plain": [
       "<Figure size 432x288 with 1 Axes>"
      ]
     },
     "metadata": {
      "needs_background": "light"
     },
     "output_type": "display_data"
    }
   ],
   "source": [
    "# 1. Training Data Set\n",
    "\n",
    "import numpy as np\n",
    "import matplotlib.pyplot as plt\n",
    "\n",
    "# Training Data Set\n",
    "x_data = np.array([1,2,3,4,5,7,8,10,12,13,14,15,18,20,25,28,30]).reshape(-1,1)\n",
    "t_data = np.array([5,7,20,31,40,44,46,49,60,62,70,80,85,91,92,97,98]).reshape(-1,1)\n",
    "\n",
    "# 데이터의 분포를 scatter로 확인\n",
    "plt.scatter(x_data.ravel(), t_data.ravel())\n",
    "plt.show()"
   ]
  },
  {
   "cell_type": "code",
   "execution_count": 25,
   "metadata": {},
   "outputs": [],
   "source": [
    "# 2. Linear Regression Model을 정의\n",
    "W = np.random.rand(1, 1) # matrix\n",
    "b = np.random.rand(1) # scalar\n",
    "\n",
    "# H = W * x + b \n",
    "\n",
    "# 3.loss function을 정의\n",
    "def loss_func(x, t):\n",
    "    y = np.dot(x, W) + b   # Hypothesis = Wx + b\n",
    "    return np.mean(np.power((t-y), 2))  # 최소제곱법\n",
    "\n",
    "\n",
    "# 미분 함수\n",
    "def numerical_derivative(f, x):\n",
    "    # f: 미분하려고 하는 다변수 함수\n",
    "    # x : 모든 변수를 포함하고 있어야 한다. ndarray (차원 상관 없이)\n",
    "    \n",
    "    delta_x = 1e-4\n",
    "    derivative_x = np.zeros_like(x) # 미분한 결과를 저장하는 ndarray\n",
    "    \n",
    "    # iterator를 이용해서 입력변수 x에 대해 편미분을 수행\n",
    "    it = np.nditer(x, flags=['multi_index'])\n",
    "    \n",
    "    while not it.finished:\n",
    "        idx = it.multi_index # iterator의 현재 index를 추출\n",
    "        # 현재 칸의 값을 어딘가에 잠시 저장한다.\n",
    "        tmp = x[idx]\n",
    "        \n",
    "        x[idx] = tmp + delta_x\n",
    "        fx_plus_delta = f(x)    # f(x + delta_x)\n",
    "        \n",
    "        x[idx] = tmp - delta_x\n",
    "        fx_minus_delta = f(x)   # f(x - delta_x)\n",
    "    \n",
    "        derivative_x[idx] = (fx_plus_delta - fx_minus_delta) / (2 * delta_x)\n",
    "        \n",
    "        x[idx] = tmp # 데이터 원상 복구\n",
    "        \n",
    "        it.iternext()\n",
    "    \n",
    "    return  derivative_x\n",
    "\n",
    "\n",
    "# 학습 종료 후 임의의 데이터에 대한 예측값을 알아오는 함수\n",
    "# prediction\n",
    "def predict(x):\n",
    "    return np.dot(x, W) + b   # Hypothesis, Linear Regression Model\n",
    "\n",
    "\n",
    "# 4. learning rate 상수가 필요, 정의\n",
    "learning_rate = 0.0001\n",
    "\n",
    "# 미분을 진행할 loss_func()에 대한 lambda 함수를 정의\n",
    "f = lambda x : loss_func(x_data, t_data)"
   ]
  },
  {
   "cell_type": "code",
   "execution_count": 24,
   "metadata": {},
   "outputs": [
    {
     "name": "stdout",
     "output_type": "stream",
     "text": [
      "W : [[3.21310136]], b : [16.81930068], loss : 88.34487383909192\n",
      "W : [[3.21201029]], b : [16.83974906], loss : 88.34439476845088\n",
      "W : [[3.21140273]], b : [16.85113591], loss : 88.34424621284707\n",
      "W : [[3.2110644]], b : [16.85747677], loss : 88.34420014705736\n",
      "W : [[3.210876]], b : [16.86100773], loss : 88.34418586246\n",
      "W : [[3.21077108]], b : [16.86297398], loss : 88.34418143293162\n",
      "W : [[3.21071266]], b : [16.8640689], loss : 88.34418005937373\n",
      "W : [[3.21068013]], b : [16.86467861], loss : 88.34417963344546\n",
      "W : [[3.21066201]], b : [16.86501814], loss : 88.34417950136886\n",
      "W : [[3.21065193]], b : [16.86520721], loss : 88.34417946041307\n",
      "[[77.86759235]]\n"
     ]
    },
    {
     "data": {
      "image/png": "[encoded data removed]",
      "text/plain": [
       "<Figure size 432x288 with 1 Axes>"
      ]
     },
     "metadata": {
      "needs_background": "light"
     },
     "output_type": "display_data"
    }
   ],
   "source": [
    "# 5. 학습을 진행\n",
    "# W와 b를 update하면서 반복적으로 학습 진행\n",
    "for step in range(90000):\n",
    "    W = W - learning_rate * numerical_derivative(f,W)  # W의 편미분\n",
    "    b = b - learning_rate * numerical_derivative(f,b)  # b의 편미분\n",
    "    \n",
    "    if step % 9000 == 0:\n",
    "        print('W : {}, b : {}, loss : {}'.format(W, b, loss_func(x_data, t_data)))\n",
    "        \n",
    "# 학습 종료 후 예측\n",
    "print(predict(19))\n",
    "\n",
    "# 데이터의 분포를 scatter로 확인\n",
    "plt.scatter(x_data.ravel(), t_data.ravel())\n",
    "plt.plot(x_data.ravel(), np.dot(x_data,W) + b)  # 직선\n",
    "plt.show()"
   ]
  }
 ],
 "metadata": {
  "kernelspec": {
   "display_name": "Python 3",
   "language": "python",
   "name": "python3"
  },
  "language_info": {
   "codemirror_mode": {
    "name": "ipython",
    "version": 3
   },
   "file_extension": ".py",
   "mimetype": "text/x-python",
   "name": "python",
   "nbconvert_exporter": "python",
   "pygments_lexer": "ipython3",
   "version": "3.7.7"
  }
 },
 "nbformat": 4,
 "nbformat_minor": 4
}
