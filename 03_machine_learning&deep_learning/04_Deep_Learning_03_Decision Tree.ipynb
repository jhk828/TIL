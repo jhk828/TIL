{
 "cells": [
  {
   "cell_type": "code",
   "execution_count": 1,
   "metadata": {},
   "outputs": [
    {
     "name": "stdout",
     "output_type": "stream",
     "text": [
      "0.954434002924965\n"
     ]
    }
   ],
   "source": [
    "# Entropy 계산\n",
    "import numpy as np\n",
    "\n",
    "result = -(10/16 * np.log2(10/16) + 6/16 * np.log2(6/16)) \n",
    "\n",
    "print(result)"
   ]
  },
  {
   "cell_type": "code",
   "execution_count": 2,
   "metadata": {},
   "outputs": [
    {
     "name": "stdout",
     "output_type": "stream",
     "text": [
      "0.7489992230622807\n"
     ]
    }
   ],
   "source": [
    "import numpy as np\n",
    "\n",
    "result1 = 8/16 * (-(7/8 * np.log2(7/8) + 1/8 * np.log2(1/8)))\n",
    "result2 = 8/16 * (-(3/8 * np.log2(3/8) + 5/8 * np.log2(5/8)))\n",
    "\n",
    "print(result1 + result2)"
   ]
  },
  {
   "cell_type": "code",
   "execution_count": null,
   "metadata": {},
   "outputs": [],
   "source": [
    "# 전체 0.9402"
   ]
  },
  {
   "cell_type": "code",
   "execution_count": null,
   "metadata": {},
   "outputs": [],
   "source": [
    "# wind로 분할 0.892\n"
   ]
  },
  {
   "cell_type": "code",
   "execution_count": 3,
   "metadata": {},
   "outputs": [
    {
     "name": "stdout",
     "output_type": "stream",
     "text": [
      "0.7884504573082896\n"
     ]
    }
   ],
   "source": [
    "# Humidity로 분할\n",
    "\n",
    "import numpy as np\n",
    "\n",
    "result1 = 7/14 * (-(3/7 * np.log2(3/7) + 4/7 * np.log2(4/7)))\n",
    "result2 = 7/14 * (-(6/7 * np.log2(6/7) + 1/7 * np.log2(1/7)))\n",
    "\n",
    "print(result1 + result2)"
   ]
  },
  {
   "cell_type": "code",
   "execution_count": 5,
   "metadata": {
    "scrolled": true
   },
   "outputs": [
    {
     "name": "stdout",
     "output_type": "stream",
     "text": [
      "0.6935361388961918\n"
     ]
    }
   ],
   "source": [
    "# Outlook으로 분할\n",
    "\n",
    "import numpy as np\n",
    "\n",
    "result1 = 5/14 * (-(2/5 * np.log2(2/5) + 3/5 * np.log2(3/5)))\n",
    "result2 = 4/14 * (-(4/4 * np.log2(4/4)))\n",
    "result3 = 5/14 * (-(3/5 * np.log2(3/5) + 2/5 * np.log2(2/5)))\n",
    "\n",
    "print(result1 + result2 + result3)"
   ]
  },
  {
   "cell_type": "markdown",
   "metadata": {},
   "source": [
    "### sklearn으로 Decision Tree"
   ]
  },
  {
   "cell_type": "code",
   "execution_count": 7,
   "metadata": {},
   "outputs": [
    {
     "name": "stdout",
     "output_type": "stream",
     "text": [
      "Once deleted, variables cannot be recovered. Proceed (y/[n])? y\n"
     ]
    },
    {
     "data": {
      "image/png": "[encoded data removed]",
      "text/plain": [
       "<Figure size 432x288 with 1 Axes>"
      ]
     },
     "metadata": {
      "needs_background": "light"
     },
     "output_type": "display_data"
    }
   ],
   "source": [
    "%reset\n",
    "\n",
    "import numpy as np\n",
    "import pandas as pd\n",
    "import matplotlib.pyplot as plt\n",
    "from mlxtend.plotting import plot_decision_regions\n",
    "from sklearn.tree import DecisionTreeClassifier\n",
    "\n",
    "# training data set\n",
    "df = pd.read_csv('./data/bmi.csv', skiprows=3)\n",
    "\n",
    "x_data = df[['height', 'weight']].values\n",
    "t_data = df['label'].values\n",
    "\n",
    "# matplotlib을 이용해서 t_data가 0인 경우 red점으로,\n",
    "# t_data가 1인경우 blue점으로, t_data가 2인경우 green점으로 표현\n",
    "# 총 20000개 중에 각각 30개씩만 뽑아서 그래프를 그려보아요!\n",
    "\n",
    "num_of_sample = 30\n",
    "\n",
    "x_data_red = x_data[t_data==0][:num_of_sample]\n",
    "t_data_red = t_data[t_data==0][:num_of_sample]\n",
    "\n",
    "x_data_blue = x_data[t_data==1][:num_of_sample]\n",
    "t_data_blue = t_data[t_data==1][:num_of_sample]\n",
    "\n",
    "x_data_green = x_data[t_data==2][:num_of_sample]\n",
    "t_data_green = t_data[t_data==2][:num_of_sample]\n",
    "\n",
    "x_data_sample = np.concatenate((x_data_red,x_data_blue,x_data_green), axis=0)\n",
    "t_data_sample = np.concatenate((t_data_red,t_data_blue,t_data_green), axis=0)\n",
    "\n",
    "#################################\n",
    "\n",
    "# sklearn 구현\n",
    "model = DecisionTreeClassifier()\n",
    "\n",
    "# model = SVC(C=0.001, \n",
    "#             gamma=0.01, \n",
    "#             kernel='rbf')\n",
    "model.fit(x_data_sample,t_data_sample)\n",
    "\n",
    "plot_decision_regions(X=x_data_sample,\n",
    "                      y=t_data_sample,\n",
    "                      clf=model,\n",
    "                      legend=2)\n",
    "\n",
    "plt.show()"
   ]
  },
  {
   "cell_type": "code",
   "execution_count": null,
   "metadata": {},
   "outputs": [],
   "source": []
  }
 ],
 "metadata": {
  "kernelspec": {
   "display_name": "Python [conda env:data_env] *",
   "language": "python",
   "name": "conda-env-data_env-py"
  },
  "language_info": {
   "codemirror_mode": {
    "name": "ipython",
    "version": 3
   },
   "file_extension": ".py",
   "mimetype": "text/x-python",
   "name": "python",
   "nbconvert_exporter": "python",
   "pygments_lexer": "ipython3",
   "version": "3.7.7"
  }
 },
 "nbformat": 4,
 "nbformat_minor": 4
}
